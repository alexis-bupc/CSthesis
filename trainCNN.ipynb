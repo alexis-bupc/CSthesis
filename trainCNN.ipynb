{
  "cells": [
    {
      "cell_type": "code",
      "execution_count": 1,
      "metadata": {
        "id": "igMyGnjE9hEp"
      },
      "outputs": [
        {
          "name": "stdout",
          "output_type": "stream",
          "text": [
            "WARNING:tensorflow:From C:\\Users\\prxm3\\AppData\\Local\\Packages\\PythonSoftwareFoundation.Python.3.11_qbz5n2kfra8p0\\LocalCache\\local-packages\\Python311\\site-packages\\keras\\src\\losses.py:2976: The name tf.losses.sparse_softmax_cross_entropy is deprecated. Please use tf.compat.v1.losses.sparse_softmax_cross_entropy instead.\n",
            "\n"
          ]
        }
      ],
      "source": [
        "import csv\n",
        "\n",
        "import numpy as np\n",
        "import tensorflow as tf\n",
        "from sklearn.model_selection import train_test_split\n",
        "\n",
        "RANDOM_SEED = 42"
      ]
    },
    {
      "cell_type": "markdown",
      "metadata": {
        "id": "t2HDvhIu9hEr"
      },
      "source": [
        "# Specify each path"
      ]
    },
    {
      "cell_type": "code",
      "execution_count": 2,
      "metadata": {
        "id": "9NvZP2Zn9hEy"
      },
      "outputs": [],
      "source": [
        "dataset = 'model/keypoint_classifier/keypoint.csv'\n",
        "model_save_path = 'model/keypoint_classifier/keypoint_classifier.hdf5'\n",
        "tflite_save_path = 'model/keypoint_classifier/keypoint_classifier.tflite'"
      ]
    },
    {
      "cell_type": "markdown",
      "metadata": {
        "id": "s5oMH7x19hEz"
      },
      "source": [
        "# Set number of classes"
      ]
    },
    {
      "cell_type": "code",
      "execution_count": 3,
      "metadata": {
        "id": "du4kodXL9hEz"
      },
      "outputs": [],
      "source": [
        "NUM_CLASSES = 4"
      ]
    },
    {
      "cell_type": "markdown",
      "metadata": {
        "id": "XjnL0uso9hEz"
      },
      "source": [
        "# Dataset reading"
      ]
    },
    {
      "cell_type": "code",
      "execution_count": 4,
      "metadata": {
        "id": "QT5ZqtEz9hE0"
      },
      "outputs": [],
      "source": [
        "X_dataset = np.loadtxt(dataset, delimiter=',', dtype='float32', usecols=list(range(1, (21 * 2) + 1)))"
      ]
    },
    {
      "cell_type": "code",
      "execution_count": 5,
      "metadata": {
        "id": "QmoKFsp49hE0"
      },
      "outputs": [],
      "source": [
        "y_dataset = np.loadtxt(dataset, delimiter=',', dtype='int32', usecols=(0))"
      ]
    },
    {
      "cell_type": "code",
      "execution_count": 6,
      "metadata": {
        "id": "xQU7JTZ_9hE0"
      },
      "outputs": [],
      "source": [
        "X_train, X_test, y_train, y_test = train_test_split(X_dataset, y_dataset, train_size=0.75, random_state=RANDOM_SEED)"
      ]
    },
    {
      "cell_type": "markdown",
      "metadata": {
        "id": "mxK_lETT9hE0"
      },
      "source": [
        "# Model building"
      ]
    },
    {
      "cell_type": "code",
      "execution_count": 7,
      "metadata": {
        "id": "vHBmUf1t9hE1"
      },
      "outputs": [
        {
          "name": "stdout",
          "output_type": "stream",
          "text": [
            "WARNING:tensorflow:From C:\\Users\\prxm3\\AppData\\Local\\Packages\\PythonSoftwareFoundation.Python.3.11_qbz5n2kfra8p0\\LocalCache\\local-packages\\Python311\\site-packages\\keras\\src\\backend.py:1398: The name tf.executing_eagerly_outside_functions is deprecated. Please use tf.compat.v1.executing_eagerly_outside_functions instead.\n",
            "\n"
          ]
        }
      ],
      "source": [
        "model = tf.keras.models.Sequential([\n",
        "    tf.keras.layers.Input((21 * 2, )),\n",
        "    tf.keras.layers.Dropout(0.2),\n",
        "    tf.keras.layers.Dense(20, activation='relu'),\n",
        "    tf.keras.layers.Dropout(0.4),\n",
        "    tf.keras.layers.Dense(10, activation='relu'),\n",
        "    tf.keras.layers.Dense(NUM_CLASSES, activation='softmax')\n",
        "])"
      ]
    },
    {
      "cell_type": "code",
      "execution_count": 8,
      "metadata": {
        "colab": {
          "base_uri": "https://localhost:8080/"
        },
        "id": "ypqky9tc9hE1",
        "outputId": "5db082bb-30e3-4110-bf63-a1ee777ecd46"
      },
      "outputs": [
        {
          "name": "stdout",
          "output_type": "stream",
          "text": [
            "Model: \"sequential\"\n",
            "_________________________________________________________________\n",
            " Layer (type)                Output Shape              Param #   \n",
            "=================================================================\n",
            " dropout (Dropout)           (None, 42)                0         \n",
            "                                                                 \n",
            " dense (Dense)               (None, 20)                860       \n",
            "                                                                 \n",
            " dropout_1 (Dropout)         (None, 20)                0         \n",
            "                                                                 \n",
            " dense_1 (Dense)             (None, 10)                210       \n",
            "                                                                 \n",
            " dense_2 (Dense)             (None, 4)                 44        \n",
            "                                                                 \n",
            "=================================================================\n",
            "Total params: 1114 (4.35 KB)\n",
            "Trainable params: 1114 (4.35 KB)\n",
            "Non-trainable params: 0 (0.00 Byte)\n",
            "_________________________________________________________________\n"
          ]
        }
      ],
      "source": [
        "model.summary()  # tf.keras.utils.plot_model(model, show_shapes=True)"
      ]
    },
    {
      "cell_type": "code",
      "execution_count": 9,
      "metadata": {
        "id": "MbMjOflQ9hE1"
      },
      "outputs": [],
      "source": [
        "# Model checkpoint callback\n",
        "cp_callback = tf.keras.callbacks.ModelCheckpoint(\n",
        "    model_save_path, verbose=1, save_weights_only=False)\n",
        "# Callback for early stopping\n",
        "es_callback = tf.keras.callbacks.EarlyStopping(patience=20, verbose=1)"
      ]
    },
    {
      "cell_type": "code",
      "execution_count": 10,
      "metadata": {
        "id": "c3Dac0M_9hE2"
      },
      "outputs": [
        {
          "name": "stdout",
          "output_type": "stream",
          "text": [
            "WARNING:tensorflow:From C:\\Users\\prxm3\\AppData\\Local\\Packages\\PythonSoftwareFoundation.Python.3.11_qbz5n2kfra8p0\\LocalCache\\local-packages\\Python311\\site-packages\\keras\\src\\optimizers\\__init__.py:309: The name tf.train.Optimizer is deprecated. Please use tf.compat.v1.train.Optimizer instead.\n",
            "\n"
          ]
        }
      ],
      "source": [
        "# Model compilation\n",
        "model.compile(\n",
        "    optimizer='adam',\n",
        "    loss='sparse_categorical_crossentropy',\n",
        "    metrics=['accuracy']\n",
        ")"
      ]
    },
    {
      "cell_type": "markdown",
      "metadata": {
        "id": "7XI0j1Iu9hE2"
      },
      "source": [
        "# Model training"
      ]
    },
    {
      "cell_type": "code",
      "execution_count": 11,
      "metadata": {
        "colab": {
          "base_uri": "https://localhost:8080/"
        },
        "id": "WirBl-JE9hE3",
        "outputId": "71b30ca2-8294-4d9d-8aa2-800d90d399de",
        "scrolled": true
      },
      "outputs": [
        {
          "name": "stdout",
          "output_type": "stream",
          "text": [
            "Epoch 1/1000\n",
            "WARNING:tensorflow:From C:\\Users\\prxm3\\AppData\\Local\\Packages\\PythonSoftwareFoundation.Python.3.11_qbz5n2kfra8p0\\LocalCache\\local-packages\\Python311\\site-packages\\keras\\src\\utils\\tf_utils.py:492: The name tf.ragged.RaggedTensorValue is deprecated. Please use tf.compat.v1.ragged.RaggedTensorValue instead.\n",
            "\n",
            "WARNING:tensorflow:From C:\\Users\\prxm3\\AppData\\Local\\Packages\\PythonSoftwareFoundation.Python.3.11_qbz5n2kfra8p0\\LocalCache\\local-packages\\Python311\\site-packages\\keras\\src\\engine\\base_layer_utils.py:384: The name tf.executing_eagerly_outside_functions is deprecated. Please use tf.compat.v1.executing_eagerly_outside_functions instead.\n",
            "\n",
            "45/50 [==========================>...] - ETA: 0s - loss: 1.3538 - accuracy: 0.3477\n",
            "Epoch 1: saving model to model/keypoint_classifier\\keypoint_classifier.hdf5\n",
            "50/50 [==============================] - 2s 8ms/step - loss: 1.3496 - accuracy: 0.3500 - val_loss: 1.2797 - val_accuracy: 0.4303\n",
            "Epoch 2/1000\n",
            "39/50 [======================>.......] - ETA: 0s - loss: 1.2667 - accuracy: 0.3862"
          ]
        },
        {
          "name": "stderr",
          "output_type": "stream",
          "text": [
            "C:\\Users\\prxm3\\AppData\\Local\\Packages\\PythonSoftwareFoundation.Python.3.11_qbz5n2kfra8p0\\LocalCache\\local-packages\\Python311\\site-packages\\keras\\src\\engine\\training.py:3103: UserWarning: You are saving your model as an HDF5 file via `model.save()`. This file format is considered legacy. We recommend using instead the native Keras format, e.g. `model.save('my_model.keras')`.\n",
            "  saving_api.save_model(\n"
          ]
        },
        {
          "name": "stdout",
          "output_type": "stream",
          "text": [
            "\n",
            "Epoch 2: saving model to model/keypoint_classifier\\keypoint_classifier.hdf5\n",
            "50/50 [==============================] - 0s 5ms/step - loss: 1.2592 - accuracy: 0.3863 - val_loss: 1.2080 - val_accuracy: 0.4614\n",
            "Epoch 3/1000\n",
            "27/50 [===============>..............] - ETA: 0s - loss: 1.2172 - accuracy: 0.4071\n",
            "Epoch 3: saving model to model/keypoint_classifier\\keypoint_classifier.hdf5\n",
            "50/50 [==============================] - 0s 5ms/step - loss: 1.2150 - accuracy: 0.4076 - val_loss: 1.1656 - val_accuracy: 0.5482\n",
            "Epoch 4/1000\n",
            "41/50 [=======================>......] - ETA: 0s - loss: 1.1800 - accuracy: 0.4478\n",
            "Epoch 4: saving model to model/keypoint_classifier\\keypoint_classifier.hdf5\n",
            "50/50 [==============================] - 0s 5ms/step - loss: 1.1762 - accuracy: 0.4481 - val_loss: 1.1272 - val_accuracy: 0.6035\n",
            "Epoch 5/1000\n",
            "24/50 [=============>................] - ETA: 0s - loss: 1.1580 - accuracy: 0.4499\n",
            "Epoch 5: saving model to model/keypoint_classifier\\keypoint_classifier.hdf5\n",
            "50/50 [==============================] - 0s 4ms/step - loss: 1.1492 - accuracy: 0.4630 - val_loss: 1.0883 - val_accuracy: 0.6083\n",
            "Epoch 6/1000\n",
            "25/50 [==============>...............] - ETA: 0s - loss: 1.1225 - accuracy: 0.4903\n",
            "Epoch 6: saving model to model/keypoint_classifier\\keypoint_classifier.hdf5\n",
            "50/50 [==============================] - 0s 4ms/step - loss: 1.1182 - accuracy: 0.4877 - val_loss: 1.0430 - val_accuracy: 0.6360\n",
            "Epoch 7/1000\n",
            "27/50 [===============>..............] - ETA: 0s - loss: 1.0892 - accuracy: 0.5035\n",
            "Epoch 7: saving model to model/keypoint_classifier\\keypoint_classifier.hdf5\n",
            "50/50 [==============================] - 0s 4ms/step - loss: 1.0814 - accuracy: 0.5128 - val_loss: 0.9897 - val_accuracy: 0.6870\n",
            "Epoch 8/1000\n",
            "25/50 [==============>...............] - ETA: 0s - loss: 1.0625 - accuracy: 0.5141\n",
            "Epoch 8: saving model to model/keypoint_classifier\\keypoint_classifier.hdf5\n",
            "50/50 [==============================] - 0s 4ms/step - loss: 1.0487 - accuracy: 0.5208 - val_loss: 0.9395 - val_accuracy: 0.6875\n",
            "Epoch 9/1000\n",
            "26/50 [==============>...............] - ETA: 0s - loss: 1.0324 - accuracy: 0.5385\n",
            "Epoch 9: saving model to model/keypoint_classifier\\keypoint_classifier.hdf5\n",
            "50/50 [==============================] - 0s 4ms/step - loss: 1.0197 - accuracy: 0.5472 - val_loss: 0.8908 - val_accuracy: 0.7376\n",
            "Epoch 10/1000\n",
            "28/50 [===============>..............] - ETA: 0s - loss: 0.9810 - accuracy: 0.5756\n",
            "Epoch 10: saving model to model/keypoint_classifier\\keypoint_classifier.hdf5\n",
            "50/50 [==============================] - 0s 4ms/step - loss: 0.9818 - accuracy: 0.5772 - val_loss: 0.8415 - val_accuracy: 0.7419\n",
            "Epoch 11/1000\n",
            "50/50 [==============================] - ETA: 0s - loss: 0.9526 - accuracy: 0.5920\n",
            "Epoch 11: saving model to model/keypoint_classifier\\keypoint_classifier.hdf5\n",
            "50/50 [==============================] - 0s 4ms/step - loss: 0.9526 - accuracy: 0.5920 - val_loss: 0.7969 - val_accuracy: 0.7634\n",
            "Epoch 12/1000\n",
            "25/50 [==============>...............] - ETA: 0s - loss: 0.9229 - accuracy: 0.6019\n",
            "Epoch 12: saving model to model/keypoint_classifier\\keypoint_classifier.hdf5\n",
            "50/50 [==============================] - 0s 4ms/step - loss: 0.9242 - accuracy: 0.6076 - val_loss: 0.7525 - val_accuracy: 0.7934\n",
            "Epoch 13/1000\n",
            "50/50 [==============================] - ETA: 0s - loss: 0.8897 - accuracy: 0.6266\n",
            "Epoch 13: saving model to model/keypoint_classifier\\keypoint_classifier.hdf5\n",
            "50/50 [==============================] - 0s 4ms/step - loss: 0.8897 - accuracy: 0.6266 - val_loss: 0.6995 - val_accuracy: 0.8225\n",
            "Epoch 14/1000\n",
            "28/50 [===============>..............] - ETA: 0s - loss: 0.8807 - accuracy: 0.6286\n",
            "Epoch 14: saving model to model/keypoint_classifier\\keypoint_classifier.hdf5\n",
            "50/50 [==============================] - 0s 4ms/step - loss: 0.8630 - accuracy: 0.6466 - val_loss: 0.6528 - val_accuracy: 0.8421\n",
            "Epoch 15/1000\n",
            "49/50 [============================>.] - ETA: 0s - loss: 0.8312 - accuracy: 0.6711\n",
            "Epoch 15: saving model to model/keypoint_classifier\\keypoint_classifier.hdf5\n",
            "50/50 [==============================] - 0s 5ms/step - loss: 0.8313 - accuracy: 0.6710 - val_loss: 0.6133 - val_accuracy: 0.8740\n",
            "Epoch 16/1000\n",
            "35/50 [====================>.........] - ETA: 0s - loss: 0.8139 - accuracy: 0.6679\n",
            "Epoch 16: saving model to model/keypoint_classifier\\keypoint_classifier.hdf5\n",
            "50/50 [==============================] - 0s 3ms/step - loss: 0.8118 - accuracy: 0.6714 - val_loss: 0.5675 - val_accuracy: 0.9070\n",
            "Epoch 17/1000\n",
            "28/50 [===============>..............] - ETA: 0s - loss: 0.7712 - accuracy: 0.6956\n",
            "Epoch 17: saving model to model/keypoint_classifier\\keypoint_classifier.hdf5\n",
            "50/50 [==============================] - 0s 4ms/step - loss: 0.7685 - accuracy: 0.6945 - val_loss: 0.5159 - val_accuracy: 0.9160\n",
            "Epoch 18/1000\n",
            "34/50 [===================>..........] - ETA: 0s - loss: 0.7664 - accuracy: 0.6946\n",
            "Epoch 18: saving model to model/keypoint_classifier\\keypoint_classifier.hdf5\n",
            "50/50 [==============================] - 0s 5ms/step - loss: 0.7627 - accuracy: 0.6983 - val_loss: 0.4964 - val_accuracy: 0.9256\n",
            "Epoch 19/1000\n",
            "43/50 [========================>.....] - ETA: 0s - loss: 0.7450 - accuracy: 0.7011\n",
            "Epoch 19: saving model to model/keypoint_classifier\\keypoint_classifier.hdf5\n",
            "50/50 [==============================] - 0s 4ms/step - loss: 0.7451 - accuracy: 0.7012 - val_loss: 0.4691 - val_accuracy: 0.9313\n",
            "Epoch 20/1000\n",
            "40/50 [=======================>......] - ETA: 0s - loss: 0.7238 - accuracy: 0.7094\n",
            "Epoch 20: saving model to model/keypoint_classifier\\keypoint_classifier.hdf5\n",
            "50/50 [==============================] - 0s 3ms/step - loss: 0.7246 - accuracy: 0.7082 - val_loss: 0.4500 - val_accuracy: 0.9327\n",
            "Epoch 21/1000\n",
            "24/50 [=============>................] - ETA: 0s - loss: 0.7222 - accuracy: 0.7165\n",
            "Epoch 21: saving model to model/keypoint_classifier\\keypoint_classifier.hdf5\n",
            "50/50 [==============================] - 0s 4ms/step - loss: 0.7194 - accuracy: 0.7139 - val_loss: 0.4318 - val_accuracy: 0.9399\n",
            "Epoch 22/1000\n",
            "47/50 [===========================>..] - ETA: 0s - loss: 0.7010 - accuracy: 0.7239\n",
            "Epoch 22: saving model to model/keypoint_classifier\\keypoint_classifier.hdf5\n",
            "50/50 [==============================] - 0s 4ms/step - loss: 0.6985 - accuracy: 0.7252 - val_loss: 0.4111 - val_accuracy: 0.9432\n",
            "Epoch 23/1000\n",
            "29/50 [================>.............] - ETA: 0s - loss: 0.6780 - accuracy: 0.7298\n",
            "Epoch 23: saving model to model/keypoint_classifier\\keypoint_classifier.hdf5\n",
            "50/50 [==============================] - 0s 3ms/step - loss: 0.6837 - accuracy: 0.7267 - val_loss: 0.3916 - val_accuracy: 0.9413\n",
            "Epoch 24/1000\n",
            "39/50 [======================>.......] - ETA: 0s - loss: 0.6874 - accuracy: 0.7194\n",
            "Epoch 24: saving model to model/keypoint_classifier\\keypoint_classifier.hdf5\n",
            "50/50 [==============================] - 0s 3ms/step - loss: 0.6826 - accuracy: 0.7257 - val_loss: 0.3817 - val_accuracy: 0.9389\n",
            "Epoch 25/1000\n",
            "27/50 [===============>..............] - ETA: 0s - loss: 0.6679 - accuracy: 0.7370\n",
            "Epoch 25: saving model to model/keypoint_classifier\\keypoint_classifier.hdf5\n",
            "50/50 [==============================] - 0s 4ms/step - loss: 0.6674 - accuracy: 0.7346 - val_loss: 0.3629 - val_accuracy: 0.9404\n",
            "Epoch 26/1000\n",
            "48/50 [===========================>..] - ETA: 0s - loss: 0.6475 - accuracy: 0.7484\n",
            "Epoch 26: saving model to model/keypoint_classifier\\keypoint_classifier.hdf5\n",
            "50/50 [==============================] - 0s 4ms/step - loss: 0.6467 - accuracy: 0.7491 - val_loss: 0.3567 - val_accuracy: 0.9399\n",
            "Epoch 27/1000\n",
            "42/50 [========================>.....] - ETA: 0s - loss: 0.6482 - accuracy: 0.7461\n",
            "Epoch 27: saving model to model/keypoint_classifier\\keypoint_classifier.hdf5\n",
            "50/50 [==============================] - 0s 4ms/step - loss: 0.6489 - accuracy: 0.7469 - val_loss: 0.3454 - val_accuracy: 0.9451\n",
            "Epoch 28/1000\n",
            "34/50 [===================>..........] - ETA: 0s - loss: 0.6373 - accuracy: 0.7472\n",
            "Epoch 28: saving model to model/keypoint_classifier\\keypoint_classifier.hdf5\n",
            "50/50 [==============================] - 0s 3ms/step - loss: 0.6499 - accuracy: 0.7419 - val_loss: 0.3426 - val_accuracy: 0.9485\n",
            "Epoch 29/1000\n",
            "44/50 [=========================>....] - ETA: 0s - loss: 0.6277 - accuracy: 0.7498\n",
            "Epoch 29: saving model to model/keypoint_classifier\\keypoint_classifier.hdf5\n",
            "50/50 [==============================] - 0s 4ms/step - loss: 0.6285 - accuracy: 0.7505 - val_loss: 0.3363 - val_accuracy: 0.9432\n",
            "Epoch 30/1000\n",
            "42/50 [========================>.....] - ETA: 0s - loss: 0.6404 - accuracy: 0.7524\n",
            "Epoch 30: saving model to model/keypoint_classifier\\keypoint_classifier.hdf5\n",
            "50/50 [==============================] - 0s 2ms/step - loss: 0.6398 - accuracy: 0.7507 - val_loss: 0.3344 - val_accuracy: 0.9451\n",
            "Epoch 31/1000\n",
            "40/50 [=======================>......] - ETA: 0s - loss: 0.6244 - accuracy: 0.7574\n",
            "Epoch 31: saving model to model/keypoint_classifier\\keypoint_classifier.hdf5\n",
            "50/50 [==============================] - 0s 3ms/step - loss: 0.6276 - accuracy: 0.7547 - val_loss: 0.3242 - val_accuracy: 0.9485\n",
            "Epoch 32/1000\n",
            "25/50 [==============>...............] - ETA: 0s - loss: 0.6342 - accuracy: 0.7491\n",
            "Epoch 32: saving model to model/keypoint_classifier\\keypoint_classifier.hdf5\n",
            "50/50 [==============================] - 0s 4ms/step - loss: 0.6280 - accuracy: 0.7521 - val_loss: 0.3192 - val_accuracy: 0.9466\n",
            "Epoch 33/1000\n",
            "24/50 [=============>................] - ETA: 0s - loss: 0.6259 - accuracy: 0.7549\n",
            "Epoch 33: saving model to model/keypoint_classifier\\keypoint_classifier.hdf5\n",
            "50/50 [==============================] - 0s 4ms/step - loss: 0.6114 - accuracy: 0.7621 - val_loss: 0.3059 - val_accuracy: 0.9518\n",
            "Epoch 34/1000\n",
            "27/50 [===============>..............] - ETA: 0s - loss: 0.6143 - accuracy: 0.7593\n",
            "Epoch 34: saving model to model/keypoint_classifier\\keypoint_classifier.hdf5\n",
            "50/50 [==============================] - 0s 4ms/step - loss: 0.6067 - accuracy: 0.7637 - val_loss: 0.3073 - val_accuracy: 0.9480\n",
            "Epoch 35/1000\n",
            "34/50 [===================>..........] - ETA: 0s - loss: 0.5973 - accuracy: 0.7647\n",
            "Epoch 35: saving model to model/keypoint_classifier\\keypoint_classifier.hdf5\n",
            "50/50 [==============================] - 0s 4ms/step - loss: 0.5942 - accuracy: 0.7690 - val_loss: 0.2941 - val_accuracy: 0.9518\n",
            "Epoch 36/1000\n",
            "27/50 [===============>..............] - ETA: 0s - loss: 0.6234 - accuracy: 0.7590\n",
            "Epoch 36: saving model to model/keypoint_classifier\\keypoint_classifier.hdf5\n",
            "50/50 [==============================] - 0s 3ms/step - loss: 0.6211 - accuracy: 0.7556 - val_loss: 0.2943 - val_accuracy: 0.9552\n",
            "Epoch 37/1000\n",
            "29/50 [================>.............] - ETA: 0s - loss: 0.6092 - accuracy: 0.7624\n",
            "Epoch 37: saving model to model/keypoint_classifier\\keypoint_classifier.hdf5\n",
            "50/50 [==============================] - 0s 4ms/step - loss: 0.6020 - accuracy: 0.7632 - val_loss: 0.2914 - val_accuracy: 0.9571\n",
            "Epoch 38/1000\n",
            "43/50 [========================>.....] - ETA: 0s - loss: 0.6079 - accuracy: 0.7618\n",
            "Epoch 38: saving model to model/keypoint_classifier\\keypoint_classifier.hdf5\n",
            "50/50 [==============================] - 0s 4ms/step - loss: 0.6040 - accuracy: 0.7648 - val_loss: 0.2968 - val_accuracy: 0.9494\n",
            "Epoch 39/1000\n",
            "35/50 [====================>.........] - ETA: 0s - loss: 0.5961 - accuracy: 0.7656\n",
            "Epoch 39: saving model to model/keypoint_classifier\\keypoint_classifier.hdf5\n",
            "50/50 [==============================] - 0s 3ms/step - loss: 0.5978 - accuracy: 0.7656 - val_loss: 0.2873 - val_accuracy: 0.9547\n",
            "Epoch 40/1000\n",
            "28/50 [===============>..............] - ETA: 0s - loss: 0.6008 - accuracy: 0.7676\n",
            "Epoch 40: saving model to model/keypoint_classifier\\keypoint_classifier.hdf5\n",
            "50/50 [==============================] - 0s 4ms/step - loss: 0.6005 - accuracy: 0.7664 - val_loss: 0.2818 - val_accuracy: 0.9542\n",
            "Epoch 41/1000\n",
            "42/50 [========================>.....] - ETA: 0s - loss: 0.5787 - accuracy: 0.7777\n",
            "Epoch 41: saving model to model/keypoint_classifier\\keypoint_classifier.hdf5\n",
            "50/50 [==============================] - 0s 6ms/step - loss: 0.5749 - accuracy: 0.7792 - val_loss: 0.2816 - val_accuracy: 0.9552\n",
            "Epoch 42/1000\n",
            "48/50 [===========================>..] - ETA: 0s - loss: 0.5775 - accuracy: 0.7775\n",
            "Epoch 42: saving model to model/keypoint_classifier\\keypoint_classifier.hdf5\n",
            "50/50 [==============================] - 0s 4ms/step - loss: 0.5771 - accuracy: 0.7782 - val_loss: 0.2715 - val_accuracy: 0.9575\n",
            "Epoch 43/1000\n",
            "44/50 [=========================>....] - ETA: 0s - loss: 0.5780 - accuracy: 0.7752\n",
            "Epoch 43: saving model to model/keypoint_classifier\\keypoint_classifier.hdf5\n",
            "50/50 [==============================] - 0s 5ms/step - loss: 0.5803 - accuracy: 0.7745 - val_loss: 0.2716 - val_accuracy: 0.9594\n",
            "Epoch 44/1000\n",
            "24/50 [=============>................] - ETA: 0s - loss: 0.6053 - accuracy: 0.7673\n",
            "Epoch 44: saving model to model/keypoint_classifier\\keypoint_classifier.hdf5\n",
            "50/50 [==============================] - 0s 3ms/step - loss: 0.5947 - accuracy: 0.7667 - val_loss: 0.2721 - val_accuracy: 0.9537\n",
            "Epoch 45/1000\n",
            "32/50 [==================>...........] - ETA: 0s - loss: 0.5642 - accuracy: 0.7820\n",
            "Epoch 45: saving model to model/keypoint_classifier\\keypoint_classifier.hdf5\n",
            "50/50 [==============================] - 0s 3ms/step - loss: 0.5644 - accuracy: 0.7792 - val_loss: 0.2659 - val_accuracy: 0.9580\n",
            "Epoch 46/1000\n",
            "45/50 [==========================>...] - ETA: 0s - loss: 0.5710 - accuracy: 0.7849\n",
            "Epoch 46: saving model to model/keypoint_classifier\\keypoint_classifier.hdf5\n",
            "50/50 [==============================] - 0s 5ms/step - loss: 0.5686 - accuracy: 0.7866 - val_loss: 0.2640 - val_accuracy: 0.9590\n",
            "Epoch 47/1000\n",
            "22/50 [============>.................] - ETA: 0s - loss: 0.5652 - accuracy: 0.7834\n",
            "Epoch 47: saving model to model/keypoint_classifier\\keypoint_classifier.hdf5\n",
            "50/50 [==============================] - 0s 3ms/step - loss: 0.5566 - accuracy: 0.7865 - val_loss: 0.2590 - val_accuracy: 0.9537\n",
            "Epoch 48/1000\n",
            "27/50 [===============>..............] - ETA: 0s - loss: 0.5637 - accuracy: 0.7827\n",
            "Epoch 48: saving model to model/keypoint_classifier\\keypoint_classifier.hdf5\n",
            "50/50 [==============================] - 0s 3ms/step - loss: 0.5615 - accuracy: 0.7833 - val_loss: 0.2675 - val_accuracy: 0.9547\n",
            "Epoch 49/1000\n",
            "31/50 [=================>............] - ETA: 0s - loss: 0.5731 - accuracy: 0.7812\n",
            "Epoch 49: saving model to model/keypoint_classifier\\keypoint_classifier.hdf5\n",
            "50/50 [==============================] - 0s 3ms/step - loss: 0.5728 - accuracy: 0.7809 - val_loss: 0.2602 - val_accuracy: 0.9556\n",
            "Epoch 50/1000\n",
            "33/50 [==================>...........] - ETA: 0s - loss: 0.5654 - accuracy: 0.7789\n",
            "Epoch 50: saving model to model/keypoint_classifier\\keypoint_classifier.hdf5\n",
            "50/50 [==============================] - 0s 3ms/step - loss: 0.5642 - accuracy: 0.7800 - val_loss: 0.2616 - val_accuracy: 0.9561\n",
            "Epoch 51/1000\n",
            "28/50 [===============>..............] - ETA: 0s - loss: 0.5395 - accuracy: 0.7997\n",
            "Epoch 51: saving model to model/keypoint_classifier\\keypoint_classifier.hdf5\n",
            "50/50 [==============================] - 0s 3ms/step - loss: 0.5517 - accuracy: 0.7906 - val_loss: 0.2582 - val_accuracy: 0.9599\n",
            "Epoch 52/1000\n",
            "39/50 [======================>.......] - ETA: 0s - loss: 0.5780 - accuracy: 0.7778\n",
            "Epoch 52: saving model to model/keypoint_classifier\\keypoint_classifier.hdf5\n",
            "50/50 [==============================] - 0s 3ms/step - loss: 0.5712 - accuracy: 0.7806 - val_loss: 0.2547 - val_accuracy: 0.9599\n",
            "Epoch 53/1000\n",
            "35/50 [====================>.........] - ETA: 0s - loss: 0.5490 - accuracy: 0.7846\n",
            "Epoch 53: saving model to model/keypoint_classifier\\keypoint_classifier.hdf5\n",
            "50/50 [==============================] - 0s 3ms/step - loss: 0.5453 - accuracy: 0.7885 - val_loss: 0.2570 - val_accuracy: 0.9575\n",
            "Epoch 54/1000\n",
            "36/50 [====================>.........] - ETA: 0s - loss: 0.5384 - accuracy: 0.7943\n",
            "Epoch 54: saving model to model/keypoint_classifier\\keypoint_classifier.hdf5\n",
            "50/50 [==============================] - 0s 4ms/step - loss: 0.5353 - accuracy: 0.7938 - val_loss: 0.2496 - val_accuracy: 0.9599\n",
            "Epoch 55/1000\n",
            "28/50 [===============>..............] - ETA: 0s - loss: 0.5487 - accuracy: 0.7854\n",
            "Epoch 55: saving model to model/keypoint_classifier\\keypoint_classifier.hdf5\n",
            "50/50 [==============================] - 0s 4ms/step - loss: 0.5500 - accuracy: 0.7842 - val_loss: 0.2465 - val_accuracy: 0.9604\n",
            "Epoch 56/1000\n",
            "28/50 [===============>..............] - ETA: 0s - loss: 0.5435 - accuracy: 0.7879\n",
            "Epoch 56: saving model to model/keypoint_classifier\\keypoint_classifier.hdf5\n",
            "50/50 [==============================] - 0s 4ms/step - loss: 0.5569 - accuracy: 0.7820 - val_loss: 0.2479 - val_accuracy: 0.9585\n",
            "Epoch 57/1000\n",
            "30/50 [=================>............] - ETA: 0s - loss: 0.5525 - accuracy: 0.7909\n",
            "Epoch 57: saving model to model/keypoint_classifier\\keypoint_classifier.hdf5\n",
            "50/50 [==============================] - 0s 3ms/step - loss: 0.5402 - accuracy: 0.7957 - val_loss: 0.2559 - val_accuracy: 0.9509\n",
            "Epoch 58/1000\n",
            "31/50 [=================>............] - ETA: 0s - loss: 0.5245 - accuracy: 0.7951\n",
            "Epoch 58: saving model to model/keypoint_classifier\\keypoint_classifier.hdf5\n",
            "50/50 [==============================] - 0s 3ms/step - loss: 0.5237 - accuracy: 0.7968 - val_loss: 0.2462 - val_accuracy: 0.9590\n",
            "Epoch 59/1000\n",
            "37/50 [=====================>........] - ETA: 0s - loss: 0.5425 - accuracy: 0.7908\n",
            "Epoch 59: saving model to model/keypoint_classifier\\keypoint_classifier.hdf5\n",
            "50/50 [==============================] - 0s 3ms/step - loss: 0.5340 - accuracy: 0.7928 - val_loss: 0.2429 - val_accuracy: 0.9614\n",
            "Epoch 60/1000\n",
            "35/50 [====================>.........] - ETA: 0s - loss: 0.5377 - accuracy: 0.7935\n",
            "Epoch 60: saving model to model/keypoint_classifier\\keypoint_classifier.hdf5\n",
            "50/50 [==============================] - 0s 3ms/step - loss: 0.5270 - accuracy: 0.7971 - val_loss: 0.2397 - val_accuracy: 0.9614\n",
            "Epoch 61/1000\n",
            "26/50 [==============>...............] - ETA: 0s - loss: 0.5372 - accuracy: 0.7891\n",
            "Epoch 61: saving model to model/keypoint_classifier\\keypoint_classifier.hdf5\n",
            "50/50 [==============================] - 0s 3ms/step - loss: 0.5394 - accuracy: 0.7901 - val_loss: 0.2395 - val_accuracy: 0.9609\n",
            "Epoch 62/1000\n",
            "33/50 [==================>...........] - ETA: 0s - loss: 0.5272 - accuracy: 0.7964\n",
            "Epoch 62: saving model to model/keypoint_classifier\\keypoint_classifier.hdf5\n",
            "50/50 [==============================] - 0s 4ms/step - loss: 0.5326 - accuracy: 0.7919 - val_loss: 0.2367 - val_accuracy: 0.9590\n",
            "Epoch 63/1000\n",
            "32/50 [==================>...........] - ETA: 0s - loss: 0.5181 - accuracy: 0.8000\n",
            "Epoch 63: saving model to model/keypoint_classifier\\keypoint_classifier.hdf5\n",
            "50/50 [==============================] - 0s 4ms/step - loss: 0.5127 - accuracy: 0.8025 - val_loss: 0.2341 - val_accuracy: 0.9628\n",
            "Epoch 64/1000\n",
            "31/50 [=================>............] - ETA: 0s - loss: 0.5324 - accuracy: 0.7931\n",
            "Epoch 64: saving model to model/keypoint_classifier\\keypoint_classifier.hdf5\n",
            "50/50 [==============================] - 0s 4ms/step - loss: 0.5351 - accuracy: 0.7944 - val_loss: 0.2360 - val_accuracy: 0.9556\n",
            "Epoch 65/1000\n",
            "28/50 [===============>..............] - ETA: 0s - loss: 0.5376 - accuracy: 0.7952\n",
            "Epoch 65: saving model to model/keypoint_classifier\\keypoint_classifier.hdf5\n",
            "50/50 [==============================] - 0s 4ms/step - loss: 0.5399 - accuracy: 0.7978 - val_loss: 0.2424 - val_accuracy: 0.9575\n",
            "Epoch 66/1000\n",
            "27/50 [===============>..............] - ETA: 0s - loss: 0.5257 - accuracy: 0.8027\n",
            "Epoch 66: saving model to model/keypoint_classifier\\keypoint_classifier.hdf5\n",
            "50/50 [==============================] - 0s 4ms/step - loss: 0.5331 - accuracy: 0.7975 - val_loss: 0.2426 - val_accuracy: 0.9542\n",
            "Epoch 67/1000\n",
            "24/50 [=============>................] - ETA: 0s - loss: 0.5494 - accuracy: 0.7874\n",
            "Epoch 67: saving model to model/keypoint_classifier\\keypoint_classifier.hdf5\n",
            "50/50 [==============================] - 0s 4ms/step - loss: 0.5417 - accuracy: 0.7940 - val_loss: 0.2402 - val_accuracy: 0.9566\n",
            "Epoch 68/1000\n",
            "30/50 [=================>............] - ETA: 0s - loss: 0.5057 - accuracy: 0.8089\n",
            "Epoch 68: saving model to model/keypoint_classifier\\keypoint_classifier.hdf5\n",
            "50/50 [==============================] - 0s 3ms/step - loss: 0.5210 - accuracy: 0.8013 - val_loss: 0.2398 - val_accuracy: 0.9566\n",
            "Epoch 69/1000\n",
            "29/50 [================>.............] - ETA: 0s - loss: 0.5246 - accuracy: 0.8036\n",
            "Epoch 69: saving model to model/keypoint_classifier\\keypoint_classifier.hdf5\n",
            "50/50 [==============================] - 0s 4ms/step - loss: 0.5249 - accuracy: 0.8010 - val_loss: 0.2327 - val_accuracy: 0.9571\n",
            "Epoch 70/1000\n",
            "34/50 [===================>..........] - ETA: 0s - loss: 0.5276 - accuracy: 0.8015\n",
            "Epoch 70: saving model to model/keypoint_classifier\\keypoint_classifier.hdf5\n",
            "50/50 [==============================] - 0s 4ms/step - loss: 0.5195 - accuracy: 0.8035 - val_loss: 0.2247 - val_accuracy: 0.9618\n",
            "Epoch 71/1000\n",
            "30/50 [=================>............] - ETA: 0s - loss: 0.5325 - accuracy: 0.7904\n",
            "Epoch 71: saving model to model/keypoint_classifier\\keypoint_classifier.hdf5\n",
            "50/50 [==============================] - 0s 3ms/step - loss: 0.5243 - accuracy: 0.7951 - val_loss: 0.2366 - val_accuracy: 0.9575\n",
            "Epoch 72/1000\n",
            "30/50 [=================>............] - ETA: 0s - loss: 0.5274 - accuracy: 0.7987\n",
            "Epoch 72: saving model to model/keypoint_classifier\\keypoint_classifier.hdf5\n",
            "50/50 [==============================] - 0s 3ms/step - loss: 0.5230 - accuracy: 0.8029 - val_loss: 0.2303 - val_accuracy: 0.9561\n",
            "Epoch 73/1000\n",
            "28/50 [===============>..............] - ETA: 0s - loss: 0.5268 - accuracy: 0.7994\n",
            "Epoch 73: saving model to model/keypoint_classifier\\keypoint_classifier.hdf5\n",
            "50/50 [==============================] - 0s 4ms/step - loss: 0.5186 - accuracy: 0.8038 - val_loss: 0.2222 - val_accuracy: 0.9618\n",
            "Epoch 74/1000\n",
            "33/50 [==================>...........] - ETA: 0s - loss: 0.5136 - accuracy: 0.8052\n",
            "Epoch 74: saving model to model/keypoint_classifier\\keypoint_classifier.hdf5\n",
            "50/50 [==============================] - 0s 4ms/step - loss: 0.5045 - accuracy: 0.8123 - val_loss: 0.2229 - val_accuracy: 0.9637\n",
            "Epoch 75/1000\n",
            "31/50 [=================>............] - ETA: 0s - loss: 0.5226 - accuracy: 0.7971\n",
            "Epoch 75: saving model to model/keypoint_classifier\\keypoint_classifier.hdf5\n",
            "50/50 [==============================] - 0s 3ms/step - loss: 0.5087 - accuracy: 0.8043 - val_loss: 0.2227 - val_accuracy: 0.9614\n",
            "Epoch 76/1000\n",
            "29/50 [================>.............] - ETA: 0s - loss: 0.5062 - accuracy: 0.8082\n",
            "Epoch 76: saving model to model/keypoint_classifier\\keypoint_classifier.hdf5\n",
            "50/50 [==============================] - 0s 5ms/step - loss: 0.5138 - accuracy: 0.8040 - val_loss: 0.2220 - val_accuracy: 0.9575\n",
            "Epoch 77/1000\n",
            "35/50 [====================>.........] - ETA: 0s - loss: 0.4932 - accuracy: 0.8087\n",
            "Epoch 77: saving model to model/keypoint_classifier\\keypoint_classifier.hdf5\n",
            "50/50 [==============================] - 0s 4ms/step - loss: 0.4987 - accuracy: 0.8078 - val_loss: 0.2202 - val_accuracy: 0.9656\n",
            "Epoch 78/1000\n",
            "26/50 [==============>...............] - ETA: 0s - loss: 0.5006 - accuracy: 0.8089\n",
            "Epoch 78: saving model to model/keypoint_classifier\\keypoint_classifier.hdf5\n",
            "50/50 [==============================] - 0s 4ms/step - loss: 0.4968 - accuracy: 0.8129 - val_loss: 0.2195 - val_accuracy: 0.9618\n",
            "Epoch 79/1000\n",
            "26/50 [==============>...............] - ETA: 0s - loss: 0.5154 - accuracy: 0.8053\n",
            "Epoch 79: saving model to model/keypoint_classifier\\keypoint_classifier.hdf5\n",
            "50/50 [==============================] - 0s 4ms/step - loss: 0.5104 - accuracy: 0.8045 - val_loss: 0.2224 - val_accuracy: 0.9633\n",
            "Epoch 80/1000\n",
            "31/50 [=================>............] - ETA: 0s - loss: 0.5122 - accuracy: 0.8007\n",
            "Epoch 80: saving model to model/keypoint_classifier\\keypoint_classifier.hdf5\n",
            "50/50 [==============================] - 0s 4ms/step - loss: 0.5141 - accuracy: 0.8010 - val_loss: 0.2192 - val_accuracy: 0.9628\n",
            "Epoch 81/1000\n",
            "31/50 [=================>............] - ETA: 0s - loss: 0.5043 - accuracy: 0.8057\n",
            "Epoch 81: saving model to model/keypoint_classifier\\keypoint_classifier.hdf5\n",
            "50/50 [==============================] - 0s 4ms/step - loss: 0.4941 - accuracy: 0.8113 - val_loss: 0.2232 - val_accuracy: 0.9614\n",
            "Epoch 82/1000\n",
            "27/50 [===============>..............] - ETA: 0s - loss: 0.5205 - accuracy: 0.8024\n",
            "Epoch 82: saving model to model/keypoint_classifier\\keypoint_classifier.hdf5\n",
            "50/50 [==============================] - 0s 4ms/step - loss: 0.5184 - accuracy: 0.7976 - val_loss: 0.2165 - val_accuracy: 0.9690\n",
            "Epoch 83/1000\n",
            "23/50 [============>.................] - ETA: 0s - loss: 0.4965 - accuracy: 0.8026\n",
            "Epoch 83: saving model to model/keypoint_classifier\\keypoint_classifier.hdf5\n",
            "50/50 [==============================] - 0s 5ms/step - loss: 0.4842 - accuracy: 0.8154 - val_loss: 0.2147 - val_accuracy: 0.9652\n",
            "Epoch 84/1000\n",
            "29/50 [================>.............] - ETA: 0s - loss: 0.4939 - accuracy: 0.8136\n",
            "Epoch 84: saving model to model/keypoint_classifier\\keypoint_classifier.hdf5\n",
            "50/50 [==============================] - 0s 4ms/step - loss: 0.4813 - accuracy: 0.8212 - val_loss: 0.2102 - val_accuracy: 0.9628\n",
            "Epoch 85/1000\n",
            "34/50 [===================>..........] - ETA: 0s - loss: 0.4893 - accuracy: 0.8116\n",
            "Epoch 85: saving model to model/keypoint_classifier\\keypoint_classifier.hdf5\n",
            "50/50 [==============================] - 0s 4ms/step - loss: 0.5012 - accuracy: 0.8059 - val_loss: 0.2080 - val_accuracy: 0.9666\n",
            "Epoch 86/1000\n",
            "25/50 [==============>...............] - ETA: 0s - loss: 0.4667 - accuracy: 0.8209\n",
            "Epoch 86: saving model to model/keypoint_classifier\\keypoint_classifier.hdf5\n",
            "50/50 [==============================] - 0s 5ms/step - loss: 0.4791 - accuracy: 0.8183 - val_loss: 0.2117 - val_accuracy: 0.9676\n",
            "Epoch 87/1000\n",
            "26/50 [==============>...............] - ETA: 0s - loss: 0.4993 - accuracy: 0.8110\n",
            "Epoch 87: saving model to model/keypoint_classifier\\keypoint_classifier.hdf5\n",
            "50/50 [==============================] - 0s 4ms/step - loss: 0.5042 - accuracy: 0.8067 - val_loss: 0.2052 - val_accuracy: 0.9680\n",
            "Epoch 88/1000\n",
            "26/50 [==============>...............] - ETA: 0s - loss: 0.4796 - accuracy: 0.8140\n",
            "Epoch 88: saving model to model/keypoint_classifier\\keypoint_classifier.hdf5\n",
            "50/50 [==============================] - 0s 4ms/step - loss: 0.4895 - accuracy: 0.8124 - val_loss: 0.2039 - val_accuracy: 0.9699\n",
            "Epoch 89/1000\n",
            "23/50 [============>.................] - ETA: 0s - loss: 0.5099 - accuracy: 0.8060\n",
            "Epoch 89: saving model to model/keypoint_classifier\\keypoint_classifier.hdf5\n",
            "50/50 [==============================] - 0s 4ms/step - loss: 0.4930 - accuracy: 0.8126 - val_loss: 0.2050 - val_accuracy: 0.9719\n",
            "Epoch 90/1000\n",
            "27/50 [===============>..............] - ETA: 0s - loss: 0.4722 - accuracy: 0.8212\n",
            "Epoch 90: saving model to model/keypoint_classifier\\keypoint_classifier.hdf5\n",
            "50/50 [==============================] - 0s 3ms/step - loss: 0.4809 - accuracy: 0.8181 - val_loss: 0.2031 - val_accuracy: 0.9709\n",
            "Epoch 91/1000\n",
            "30/50 [=================>............] - ETA: 0s - loss: 0.4731 - accuracy: 0.8156\n",
            "Epoch 91: saving model to model/keypoint_classifier\\keypoint_classifier.hdf5\n",
            "50/50 [==============================] - 0s 5ms/step - loss: 0.4725 - accuracy: 0.8221 - val_loss: 0.1982 - val_accuracy: 0.9723\n",
            "Epoch 92/1000\n",
            "48/50 [===========================>..] - ETA: 0s - loss: 0.4907 - accuracy: 0.8130\n",
            "Epoch 92: saving model to model/keypoint_classifier\\keypoint_classifier.hdf5\n",
            "50/50 [==============================] - 0s 5ms/step - loss: 0.4913 - accuracy: 0.8126 - val_loss: 0.1981 - val_accuracy: 0.9728\n",
            "Epoch 93/1000\n",
            "34/50 [===================>..........] - ETA: 0s - loss: 0.4783 - accuracy: 0.8222\n",
            "Epoch 93: saving model to model/keypoint_classifier\\keypoint_classifier.hdf5\n",
            "50/50 [==============================] - 0s 4ms/step - loss: 0.4796 - accuracy: 0.8210 - val_loss: 0.1939 - val_accuracy: 0.9723\n",
            "Epoch 94/1000\n",
            "33/50 [==================>...........] - ETA: 0s - loss: 0.4744 - accuracy: 0.8224\n",
            "Epoch 94: saving model to model/keypoint_classifier\\keypoint_classifier.hdf5\n",
            "50/50 [==============================] - 0s 4ms/step - loss: 0.4823 - accuracy: 0.8167 - val_loss: 0.1962 - val_accuracy: 0.9733\n",
            "Epoch 95/1000\n",
            "32/50 [==================>...........] - ETA: 0s - loss: 0.4696 - accuracy: 0.8279\n",
            "Epoch 95: saving model to model/keypoint_classifier\\keypoint_classifier.hdf5\n",
            "50/50 [==============================] - 0s 3ms/step - loss: 0.4761 - accuracy: 0.8235 - val_loss: 0.1905 - val_accuracy: 0.9757\n",
            "Epoch 96/1000\n",
            "30/50 [=================>............] - ETA: 0s - loss: 0.4882 - accuracy: 0.8156\n",
            "Epoch 96: saving model to model/keypoint_classifier\\keypoint_classifier.hdf5\n",
            "50/50 [==============================] - 0s 4ms/step - loss: 0.4868 - accuracy: 0.8167 - val_loss: 0.1931 - val_accuracy: 0.9733\n",
            "Epoch 97/1000\n",
            "28/50 [===============>..............] - ETA: 0s - loss: 0.4788 - accuracy: 0.8192\n",
            "Epoch 97: saving model to model/keypoint_classifier\\keypoint_classifier.hdf5\n",
            "50/50 [==============================] - 0s 3ms/step - loss: 0.4766 - accuracy: 0.8202 - val_loss: 0.1921 - val_accuracy: 0.9752\n",
            "Epoch 98/1000\n",
            "30/50 [=================>............] - ETA: 0s - loss: 0.4632 - accuracy: 0.8242\n",
            "Epoch 98: saving model to model/keypoint_classifier\\keypoint_classifier.hdf5\n",
            "50/50 [==============================] - 0s 4ms/step - loss: 0.4678 - accuracy: 0.8243 - val_loss: 0.1849 - val_accuracy: 0.9747\n",
            "Epoch 99/1000\n",
            "25/50 [==============>...............] - ETA: 0s - loss: 0.4724 - accuracy: 0.8309\n",
            "Epoch 99: saving model to model/keypoint_classifier\\keypoint_classifier.hdf5\n",
            "50/50 [==============================] - 0s 4ms/step - loss: 0.4616 - accuracy: 0.8334 - val_loss: 0.1854 - val_accuracy: 0.9757\n",
            "Epoch 100/1000\n",
            "30/50 [=================>............] - ETA: 0s - loss: 0.4689 - accuracy: 0.8310\n",
            "Epoch 100: saving model to model/keypoint_classifier\\keypoint_classifier.hdf5\n",
            "50/50 [==============================] - 0s 4ms/step - loss: 0.4661 - accuracy: 0.8307 - val_loss: 0.1877 - val_accuracy: 0.9738\n",
            "Epoch 101/1000\n",
            "29/50 [================>.............] - ETA: 0s - loss: 0.4619 - accuracy: 0.8235\n",
            "Epoch 101: saving model to model/keypoint_classifier\\keypoint_classifier.hdf5\n",
            "50/50 [==============================] - 0s 3ms/step - loss: 0.4543 - accuracy: 0.8290 - val_loss: 0.1821 - val_accuracy: 0.9747\n",
            "Epoch 102/1000\n",
            "28/50 [===============>..............] - ETA: 0s - loss: 0.4761 - accuracy: 0.8178\n",
            "Epoch 102: saving model to model/keypoint_classifier\\keypoint_classifier.hdf5\n",
            "50/50 [==============================] - 0s 4ms/step - loss: 0.4720 - accuracy: 0.8229 - val_loss: 0.1760 - val_accuracy: 0.9776\n",
            "Epoch 103/1000\n",
            "28/50 [===============>..............] - ETA: 0s - loss: 0.4581 - accuracy: 0.8273\n",
            "Epoch 103: saving model to model/keypoint_classifier\\keypoint_classifier.hdf5\n",
            "50/50 [==============================] - 0s 4ms/step - loss: 0.4572 - accuracy: 0.8263 - val_loss: 0.1773 - val_accuracy: 0.9742\n",
            "Epoch 104/1000\n",
            "25/50 [==============>...............] - ETA: 0s - loss: 0.4504 - accuracy: 0.8313\n",
            "Epoch 104: saving model to model/keypoint_classifier\\keypoint_classifier.hdf5\n",
            "50/50 [==============================] - 0s 4ms/step - loss: 0.4627 - accuracy: 0.8261 - val_loss: 0.1758 - val_accuracy: 0.9733\n",
            "Epoch 105/1000\n",
            "25/50 [==============>...............] - ETA: 0s - loss: 0.4404 - accuracy: 0.8416\n",
            "Epoch 105: saving model to model/keypoint_classifier\\keypoint_classifier.hdf5\n",
            "50/50 [==============================] - 0s 5ms/step - loss: 0.4427 - accuracy: 0.8393 - val_loss: 0.1769 - val_accuracy: 0.9742\n",
            "Epoch 106/1000\n",
            "26/50 [==============>...............] - ETA: 0s - loss: 0.4745 - accuracy: 0.8218\n",
            "Epoch 106: saving model to model/keypoint_classifier\\keypoint_classifier.hdf5\n",
            "50/50 [==============================] - 0s 4ms/step - loss: 0.4603 - accuracy: 0.8304 - val_loss: 0.1769 - val_accuracy: 0.9747\n",
            "Epoch 107/1000\n",
            "26/50 [==============>...............] - ETA: 0s - loss: 0.4669 - accuracy: 0.8320\n",
            "Epoch 107: saving model to model/keypoint_classifier\\keypoint_classifier.hdf5\n",
            "50/50 [==============================] - 0s 4ms/step - loss: 0.4613 - accuracy: 0.8336 - val_loss: 0.1735 - val_accuracy: 0.9752\n",
            "Epoch 108/1000\n",
            "28/50 [===============>..............] - ETA: 0s - loss: 0.4451 - accuracy: 0.8460\n",
            "Epoch 108: saving model to model/keypoint_classifier\\keypoint_classifier.hdf5\n",
            "50/50 [==============================] - 0s 4ms/step - loss: 0.4462 - accuracy: 0.8409 - val_loss: 0.1774 - val_accuracy: 0.9766\n",
            "Epoch 109/1000\n",
            "44/50 [=========================>....] - ETA: 0s - loss: 0.4425 - accuracy: 0.8368\n",
            "Epoch 109: saving model to model/keypoint_classifier\\keypoint_classifier.hdf5\n",
            "50/50 [==============================] - 0s 4ms/step - loss: 0.4426 - accuracy: 0.8385 - val_loss: 0.1699 - val_accuracy: 0.9776\n",
            "Epoch 110/1000\n",
            "27/50 [===============>..............] - ETA: 0s - loss: 0.4420 - accuracy: 0.8429\n",
            "Epoch 110: saving model to model/keypoint_classifier\\keypoint_classifier.hdf5\n",
            "50/50 [==============================] - 0s 4ms/step - loss: 0.4418 - accuracy: 0.8423 - val_loss: 0.1696 - val_accuracy: 0.9761\n",
            "Epoch 111/1000\n",
            "31/50 [=================>............] - ETA: 0s - loss: 0.4631 - accuracy: 0.8337\n",
            "Epoch 111: saving model to model/keypoint_classifier\\keypoint_classifier.hdf5\n",
            "50/50 [==============================] - 0s 4ms/step - loss: 0.4620 - accuracy: 0.8350 - val_loss: 0.1666 - val_accuracy: 0.9781\n",
            "Epoch 112/1000\n",
            "30/50 [=================>............] - ETA: 0s - loss: 0.4284 - accuracy: 0.8432\n",
            "Epoch 112: saving model to model/keypoint_classifier\\keypoint_classifier.hdf5\n",
            "50/50 [==============================] - 0s 4ms/step - loss: 0.4305 - accuracy: 0.8438 - val_loss: 0.1683 - val_accuracy: 0.9757\n",
            "Epoch 113/1000\n",
            "49/50 [============================>.] - ETA: 0s - loss: 0.4370 - accuracy: 0.8394\n",
            "Epoch 113: saving model to model/keypoint_classifier\\keypoint_classifier.hdf5\n",
            "50/50 [==============================] - 0s 4ms/step - loss: 0.4370 - accuracy: 0.8395 - val_loss: 0.1631 - val_accuracy: 0.9766\n",
            "Epoch 114/1000\n",
            "49/50 [============================>.] - ETA: 0s - loss: 0.4335 - accuracy: 0.8433\n",
            "Epoch 114: saving model to model/keypoint_classifier\\keypoint_classifier.hdf5\n",
            "50/50 [==============================] - 0s 4ms/step - loss: 0.4328 - accuracy: 0.8436 - val_loss: 0.1621 - val_accuracy: 0.9776\n",
            "Epoch 115/1000\n",
            "48/50 [===========================>..] - ETA: 0s - loss: 0.4442 - accuracy: 0.8405\n",
            "Epoch 115: saving model to model/keypoint_classifier\\keypoint_classifier.hdf5\n",
            "50/50 [==============================] - 0s 4ms/step - loss: 0.4450 - accuracy: 0.8404 - val_loss: 0.1593 - val_accuracy: 0.9790\n",
            "Epoch 116/1000\n",
            "26/50 [==============>...............] - ETA: 0s - loss: 0.4371 - accuracy: 0.8453\n",
            "Epoch 116: saving model to model/keypoint_classifier\\keypoint_classifier.hdf5\n",
            "50/50 [==============================] - 0s 4ms/step - loss: 0.4399 - accuracy: 0.8428 - val_loss: 0.1607 - val_accuracy: 0.9757\n",
            "Epoch 117/1000\n",
            "47/50 [===========================>..] - ETA: 0s - loss: 0.4522 - accuracy: 0.8378\n",
            "Epoch 117: saving model to model/keypoint_classifier\\keypoint_classifier.hdf5\n",
            "50/50 [==============================] - 0s 4ms/step - loss: 0.4479 - accuracy: 0.8403 - val_loss: 0.1619 - val_accuracy: 0.9776\n",
            "Epoch 118/1000\n",
            "27/50 [===============>..............] - ETA: 0s - loss: 0.4273 - accuracy: 0.8492\n",
            "Epoch 118: saving model to model/keypoint_classifier\\keypoint_classifier.hdf5\n",
            "50/50 [==============================] - 0s 4ms/step - loss: 0.4186 - accuracy: 0.8512 - val_loss: 0.1564 - val_accuracy: 0.9781\n",
            "Epoch 119/1000\n",
            "50/50 [==============================] - ETA: 0s - loss: 0.4273 - accuracy: 0.8436\n",
            "Epoch 119: saving model to model/keypoint_classifier\\keypoint_classifier.hdf5\n",
            "50/50 [==============================] - 0s 4ms/step - loss: 0.4273 - accuracy: 0.8436 - val_loss: 0.1603 - val_accuracy: 0.9781\n",
            "Epoch 120/1000\n",
            "26/50 [==============>...............] - ETA: 0s - loss: 0.4267 - accuracy: 0.8492\n",
            "Epoch 120: saving model to model/keypoint_classifier\\keypoint_classifier.hdf5\n",
            "50/50 [==============================] - 0s 5ms/step - loss: 0.4247 - accuracy: 0.8476 - val_loss: 0.1580 - val_accuracy: 0.9785\n",
            "Epoch 121/1000\n",
            "25/50 [==============>...............] - ETA: 0s - loss: 0.4248 - accuracy: 0.8472\n",
            "Epoch 121: saving model to model/keypoint_classifier\\keypoint_classifier.hdf5\n",
            "50/50 [==============================] - 0s 3ms/step - loss: 0.4173 - accuracy: 0.8490 - val_loss: 0.1554 - val_accuracy: 0.9800\n",
            "Epoch 122/1000\n",
            "30/50 [=================>............] - ETA: 0s - loss: 0.4298 - accuracy: 0.8479\n",
            "Epoch 122: saving model to model/keypoint_classifier\\keypoint_classifier.hdf5\n",
            "50/50 [==============================] - 0s 4ms/step - loss: 0.4287 - accuracy: 0.8500 - val_loss: 0.1532 - val_accuracy: 0.9809\n",
            "Epoch 123/1000\n",
            "49/50 [============================>.] - ETA: 0s - loss: 0.4426 - accuracy: 0.8471\n",
            "Epoch 123: saving model to model/keypoint_classifier\\keypoint_classifier.hdf5\n",
            "50/50 [==============================] - 0s 4ms/step - loss: 0.4433 - accuracy: 0.8468 - val_loss: 0.1609 - val_accuracy: 0.9804\n",
            "Epoch 124/1000\n",
            "30/50 [=================>............] - ETA: 0s - loss: 0.4377 - accuracy: 0.8417\n",
            "Epoch 124: saving model to model/keypoint_classifier\\keypoint_classifier.hdf5\n",
            "50/50 [==============================] - 0s 4ms/step - loss: 0.4232 - accuracy: 0.8487 - val_loss: 0.1570 - val_accuracy: 0.9809\n",
            "Epoch 125/1000\n",
            "49/50 [============================>.] - ETA: 0s - loss: 0.4201 - accuracy: 0.8471\n",
            "Epoch 125: saving model to model/keypoint_classifier\\keypoint_classifier.hdf5\n",
            "50/50 [==============================] - 0s 4ms/step - loss: 0.4202 - accuracy: 0.8471 - val_loss: 0.1525 - val_accuracy: 0.9809\n",
            "Epoch 126/1000\n",
            "27/50 [===============>..............] - ETA: 0s - loss: 0.4348 - accuracy: 0.8513\n",
            "Epoch 126: saving model to model/keypoint_classifier\\keypoint_classifier.hdf5\n",
            "50/50 [==============================] - 0s 4ms/step - loss: 0.4336 - accuracy: 0.8468 - val_loss: 0.1506 - val_accuracy: 0.9823\n",
            "Epoch 127/1000\n",
            "26/50 [==============>...............] - ETA: 0s - loss: 0.4129 - accuracy: 0.8522\n",
            "Epoch 127: saving model to model/keypoint_classifier\\keypoint_classifier.hdf5\n",
            "50/50 [==============================] - 0s 4ms/step - loss: 0.4184 - accuracy: 0.8493 - val_loss: 0.1530 - val_accuracy: 0.9823\n",
            "Epoch 128/1000\n",
            "43/50 [========================>.....] - ETA: 0s - loss: 0.3973 - accuracy: 0.8579\n",
            "Epoch 128: saving model to model/keypoint_classifier\\keypoint_classifier.hdf5\n",
            "50/50 [==============================] - 0s 4ms/step - loss: 0.4009 - accuracy: 0.8573 - val_loss: 0.1503 - val_accuracy: 0.9823\n",
            "Epoch 129/1000\n",
            "26/50 [==============>...............] - ETA: 0s - loss: 0.4331 - accuracy: 0.8480\n",
            "Epoch 129: saving model to model/keypoint_classifier\\keypoint_classifier.hdf5\n",
            "50/50 [==============================] - 0s 4ms/step - loss: 0.4249 - accuracy: 0.8535 - val_loss: 0.1556 - val_accuracy: 0.9814\n",
            "Epoch 130/1000\n",
            "47/50 [===========================>..] - ETA: 0s - loss: 0.4167 - accuracy: 0.8484\n",
            "Epoch 130: saving model to model/keypoint_classifier\\keypoint_classifier.hdf5\n",
            "50/50 [==============================] - 0s 4ms/step - loss: 0.4185 - accuracy: 0.8482 - val_loss: 0.1546 - val_accuracy: 0.9823\n",
            "Epoch 131/1000\n",
            "50/50 [==============================] - ETA: 0s - loss: 0.4125 - accuracy: 0.8496\n",
            "Epoch 131: saving model to model/keypoint_classifier\\keypoint_classifier.hdf5\n",
            "50/50 [==============================] - 0s 4ms/step - loss: 0.4125 - accuracy: 0.8496 - val_loss: 0.1580 - val_accuracy: 0.9838\n",
            "Epoch 132/1000\n",
            "24/50 [=============>................] - ETA: 0s - loss: 0.4291 - accuracy: 0.8516\n",
            "Epoch 132: saving model to model/keypoint_classifier\\keypoint_classifier.hdf5\n",
            "50/50 [==============================] - 0s 4ms/step - loss: 0.4231 - accuracy: 0.8544 - val_loss: 0.1569 - val_accuracy: 0.9828\n",
            "Epoch 133/1000\n",
            "27/50 [===============>..............] - ETA: 0s - loss: 0.4137 - accuracy: 0.8524\n",
            "Epoch 133: saving model to model/keypoint_classifier\\keypoint_classifier.hdf5\n",
            "50/50 [==============================] - 0s 4ms/step - loss: 0.4150 - accuracy: 0.8527 - val_loss: 0.1536 - val_accuracy: 0.9819\n",
            "Epoch 134/1000\n",
            "26/50 [==============>...............] - ETA: 0s - loss: 0.3964 - accuracy: 0.8552\n",
            "Epoch 134: saving model to model/keypoint_classifier\\keypoint_classifier.hdf5\n",
            "50/50 [==============================] - 0s 5ms/step - loss: 0.4054 - accuracy: 0.8536 - val_loss: 0.1542 - val_accuracy: 0.9823\n",
            "Epoch 135/1000\n",
            "25/50 [==============>...............] - ETA: 0s - loss: 0.4110 - accuracy: 0.8525\n",
            "Epoch 135: saving model to model/keypoint_classifier\\keypoint_classifier.hdf5\n",
            "50/50 [==============================] - 0s 4ms/step - loss: 0.4000 - accuracy: 0.8595 - val_loss: 0.1511 - val_accuracy: 0.9833\n",
            "Epoch 136/1000\n",
            "26/50 [==============>...............] - ETA: 0s - loss: 0.4183 - accuracy: 0.8525\n",
            "Epoch 136: saving model to model/keypoint_classifier\\keypoint_classifier.hdf5\n",
            "50/50 [==============================] - 0s 4ms/step - loss: 0.4248 - accuracy: 0.8492 - val_loss: 0.1494 - val_accuracy: 0.9833\n",
            "Epoch 137/1000\n",
            "29/50 [================>.............] - ETA: 0s - loss: 0.4312 - accuracy: 0.8491\n",
            "Epoch 137: saving model to model/keypoint_classifier\\keypoint_classifier.hdf5\n",
            "50/50 [==============================] - 0s 4ms/step - loss: 0.4215 - accuracy: 0.8509 - val_loss: 0.1529 - val_accuracy: 0.9828\n",
            "Epoch 138/1000\n",
            "28/50 [===============>..............] - ETA: 0s - loss: 0.3973 - accuracy: 0.8566\n",
            "Epoch 138: saving model to model/keypoint_classifier\\keypoint_classifier.hdf5\n",
            "50/50 [==============================] - 0s 4ms/step - loss: 0.4049 - accuracy: 0.8554 - val_loss: 0.1552 - val_accuracy: 0.9833\n",
            "Epoch 139/1000\n",
            "27/50 [===============>..............] - ETA: 0s - loss: 0.3952 - accuracy: 0.8591\n",
            "Epoch 139: saving model to model/keypoint_classifier\\keypoint_classifier.hdf5\n",
            "50/50 [==============================] - 0s 4ms/step - loss: 0.3916 - accuracy: 0.8619 - val_loss: 0.1506 - val_accuracy: 0.9833\n",
            "Epoch 140/1000\n",
            "29/50 [================>.............] - ETA: 0s - loss: 0.4025 - accuracy: 0.8537\n",
            "Epoch 140: saving model to model/keypoint_classifier\\keypoint_classifier.hdf5\n",
            "50/50 [==============================] - 0s 4ms/step - loss: 0.4111 - accuracy: 0.8543 - val_loss: 0.1437 - val_accuracy: 0.9843\n",
            "Epoch 141/1000\n",
            "27/50 [===============>..............] - ETA: 0s - loss: 0.4298 - accuracy: 0.8484\n",
            "Epoch 141: saving model to model/keypoint_classifier\\keypoint_classifier.hdf5\n",
            "50/50 [==============================] - 0s 4ms/step - loss: 0.4166 - accuracy: 0.8530 - val_loss: 0.1501 - val_accuracy: 0.9843\n",
            "Epoch 142/1000\n",
            "27/50 [===============>..............] - ETA: 0s - loss: 0.4002 - accuracy: 0.8576\n",
            "Epoch 142: saving model to model/keypoint_classifier\\keypoint_classifier.hdf5\n",
            "50/50 [==============================] - 0s 4ms/step - loss: 0.4012 - accuracy: 0.8547 - val_loss: 0.1469 - val_accuracy: 0.9828\n",
            "Epoch 143/1000\n",
            "33/50 [==================>...........] - ETA: 0s - loss: 0.3931 - accuracy: 0.8651\n",
            "Epoch 143: saving model to model/keypoint_classifier\\keypoint_classifier.hdf5\n",
            "50/50 [==============================] - 0s 4ms/step - loss: 0.3992 - accuracy: 0.8630 - val_loss: 0.1465 - val_accuracy: 0.9828\n",
            "Epoch 144/1000\n",
            "31/50 [=================>............] - ETA: 0s - loss: 0.4331 - accuracy: 0.8430\n",
            "Epoch 144: saving model to model/keypoint_classifier\\keypoint_classifier.hdf5\n",
            "50/50 [==============================] - 0s 4ms/step - loss: 0.4267 - accuracy: 0.8476 - val_loss: 0.1502 - val_accuracy: 0.9833\n",
            "Epoch 145/1000\n",
            "24/50 [=============>................] - ETA: 0s - loss: 0.4240 - accuracy: 0.8519\n",
            "Epoch 145: saving model to model/keypoint_classifier\\keypoint_classifier.hdf5\n",
            "50/50 [==============================] - 0s 4ms/step - loss: 0.4142 - accuracy: 0.8581 - val_loss: 0.1494 - val_accuracy: 0.9838\n",
            "Epoch 146/1000\n",
            "27/50 [===============>..............] - ETA: 0s - loss: 0.4219 - accuracy: 0.8481\n",
            "Epoch 146: saving model to model/keypoint_classifier\\keypoint_classifier.hdf5\n",
            "50/50 [==============================] - 0s 4ms/step - loss: 0.4137 - accuracy: 0.8520 - val_loss: 0.1496 - val_accuracy: 0.9838\n",
            "Epoch 147/1000\n",
            "27/50 [===============>..............] - ETA: 0s - loss: 0.4097 - accuracy: 0.8501\n",
            "Epoch 147: saving model to model/keypoint_classifier\\keypoint_classifier.hdf5\n",
            "50/50 [==============================] - 0s 4ms/step - loss: 0.4173 - accuracy: 0.8461 - val_loss: 0.1494 - val_accuracy: 0.9847\n",
            "Epoch 148/1000\n",
            "28/50 [===============>..............] - ETA: 0s - loss: 0.4136 - accuracy: 0.8491\n",
            "Epoch 148: saving model to model/keypoint_classifier\\keypoint_classifier.hdf5\n",
            "50/50 [==============================] - 0s 4ms/step - loss: 0.4068 - accuracy: 0.8562 - val_loss: 0.1497 - val_accuracy: 0.9843\n",
            "Epoch 149/1000\n",
            "39/50 [======================>.......] - ETA: 0s - loss: 0.4005 - accuracy: 0.8572\n",
            "Epoch 149: saving model to model/keypoint_classifier\\keypoint_classifier.hdf5\n",
            "50/50 [==============================] - 0s 5ms/step - loss: 0.4120 - accuracy: 0.8544 - val_loss: 0.1471 - val_accuracy: 0.9838\n",
            "Epoch 150/1000\n",
            "49/50 [============================>.] - ETA: 0s - loss: 0.4012 - accuracy: 0.8597\n",
            "Epoch 150: saving model to model/keypoint_classifier\\keypoint_classifier.hdf5\n",
            "50/50 [==============================] - 0s 4ms/step - loss: 0.4011 - accuracy: 0.8598 - val_loss: 0.1483 - val_accuracy: 0.9843\n",
            "Epoch 151/1000\n",
            "25/50 [==============>...............] - ETA: 0s - loss: 0.3988 - accuracy: 0.8612\n",
            "Epoch 151: saving model to model/keypoint_classifier\\keypoint_classifier.hdf5\n",
            "50/50 [==============================] - 0s 4ms/step - loss: 0.3928 - accuracy: 0.8622 - val_loss: 0.1458 - val_accuracy: 0.9847\n",
            "Epoch 152/1000\n",
            "48/50 [===========================>..] - ETA: 0s - loss: 0.4009 - accuracy: 0.8587\n",
            "Epoch 152: saving model to model/keypoint_classifier\\keypoint_classifier.hdf5\n",
            "50/50 [==============================] - 0s 4ms/step - loss: 0.4016 - accuracy: 0.8579 - val_loss: 0.1476 - val_accuracy: 0.9843\n",
            "Epoch 153/1000\n",
            "25/50 [==============>...............] - ETA: 0s - loss: 0.4011 - accuracy: 0.8591\n",
            "Epoch 153: saving model to model/keypoint_classifier\\keypoint_classifier.hdf5\n",
            "50/50 [==============================] - 0s 4ms/step - loss: 0.4008 - accuracy: 0.8579 - val_loss: 0.1500 - val_accuracy: 0.9838\n",
            "Epoch 154/1000\n",
            "27/50 [===============>..............] - ETA: 0s - loss: 0.3947 - accuracy: 0.8634\n",
            "Epoch 154: saving model to model/keypoint_classifier\\keypoint_classifier.hdf5\n",
            "50/50 [==============================] - 0s 3ms/step - loss: 0.3966 - accuracy: 0.8616 - val_loss: 0.1458 - val_accuracy: 0.9847\n",
            "Epoch 155/1000\n",
            "30/50 [=================>............] - ETA: 0s - loss: 0.4056 - accuracy: 0.8544\n",
            "Epoch 155: saving model to model/keypoint_classifier\\keypoint_classifier.hdf5\n",
            "50/50 [==============================] - 0s 4ms/step - loss: 0.3966 - accuracy: 0.8563 - val_loss: 0.1435 - val_accuracy: 0.9847\n",
            "Epoch 156/1000\n",
            "31/50 [=================>............] - ETA: 0s - loss: 0.3993 - accuracy: 0.8629\n",
            "Epoch 156: saving model to model/keypoint_classifier\\keypoint_classifier.hdf5\n",
            "50/50 [==============================] - 0s 4ms/step - loss: 0.4001 - accuracy: 0.8601 - val_loss: 0.1470 - val_accuracy: 0.9852\n",
            "Epoch 157/1000\n",
            "26/50 [==============>...............] - ETA: 0s - loss: 0.4040 - accuracy: 0.8612\n",
            "Epoch 157: saving model to model/keypoint_classifier\\keypoint_classifier.hdf5\n",
            "50/50 [==============================] - 0s 4ms/step - loss: 0.4116 - accuracy: 0.8566 - val_loss: 0.1443 - val_accuracy: 0.9852\n",
            "Epoch 158/1000\n",
            "22/50 [============>.................] - ETA: 0s - loss: 0.4020 - accuracy: 0.8565\n",
            "Epoch 158: saving model to model/keypoint_classifier\\keypoint_classifier.hdf5\n",
            "50/50 [==============================] - 0s 4ms/step - loss: 0.4095 - accuracy: 0.8547 - val_loss: 0.1416 - val_accuracy: 0.9857\n",
            "Epoch 159/1000\n",
            "30/50 [=================>............] - ETA: 0s - loss: 0.4062 - accuracy: 0.8607\n",
            "Epoch 159: saving model to model/keypoint_classifier\\keypoint_classifier.hdf5\n",
            "50/50 [==============================] - 0s 3ms/step - loss: 0.3991 - accuracy: 0.8603 - val_loss: 0.1437 - val_accuracy: 0.9843\n",
            "Epoch 160/1000\n",
            "25/50 [==============>...............] - ETA: 0s - loss: 0.3835 - accuracy: 0.8669\n",
            "Epoch 160: saving model to model/keypoint_classifier\\keypoint_classifier.hdf5\n",
            "50/50 [==============================] - 0s 4ms/step - loss: 0.3691 - accuracy: 0.8748 - val_loss: 0.1390 - val_accuracy: 0.9843\n",
            "Epoch 161/1000\n",
            "27/50 [===============>..............] - ETA: 0s - loss: 0.3929 - accuracy: 0.8608\n",
            "Epoch 161: saving model to model/keypoint_classifier\\keypoint_classifier.hdf5\n",
            "50/50 [==============================] - 0s 4ms/step - loss: 0.4059 - accuracy: 0.8558 - val_loss: 0.1419 - val_accuracy: 0.9847\n",
            "Epoch 162/1000\n",
            "32/50 [==================>...........] - ETA: 0s - loss: 0.3916 - accuracy: 0.8655\n",
            "Epoch 162: saving model to model/keypoint_classifier\\keypoint_classifier.hdf5\n",
            "50/50 [==============================] - 0s 4ms/step - loss: 0.4001 - accuracy: 0.8578 - val_loss: 0.1507 - val_accuracy: 0.9843\n",
            "Epoch 163/1000\n",
            "28/50 [===============>..............] - ETA: 0s - loss: 0.4125 - accuracy: 0.8482\n",
            "Epoch 163: saving model to model/keypoint_classifier\\keypoint_classifier.hdf5\n",
            "50/50 [==============================] - 0s 4ms/step - loss: 0.4139 - accuracy: 0.8525 - val_loss: 0.1465 - val_accuracy: 0.9843\n",
            "Epoch 164/1000\n",
            "27/50 [===============>..............] - ETA: 0s - loss: 0.3890 - accuracy: 0.8689\n",
            "Epoch 164: saving model to model/keypoint_classifier\\keypoint_classifier.hdf5\n",
            "50/50 [==============================] - 0s 4ms/step - loss: 0.3913 - accuracy: 0.8660 - val_loss: 0.1521 - val_accuracy: 0.9847\n",
            "Epoch 165/1000\n",
            "26/50 [==============>...............] - ETA: 0s - loss: 0.4030 - accuracy: 0.8585\n",
            "Epoch 165: saving model to model/keypoint_classifier\\keypoint_classifier.hdf5\n",
            "50/50 [==============================] - 0s 4ms/step - loss: 0.3933 - accuracy: 0.8616 - val_loss: 0.1470 - val_accuracy: 0.9847\n",
            "Epoch 166/1000\n",
            "26/50 [==============>...............] - ETA: 0s - loss: 0.4018 - accuracy: 0.8546\n",
            "Epoch 166: saving model to model/keypoint_classifier\\keypoint_classifier.hdf5\n",
            "50/50 [==============================] - 0s 4ms/step - loss: 0.3973 - accuracy: 0.8574 - val_loss: 0.1470 - val_accuracy: 0.9843\n",
            "Epoch 167/1000\n",
            "25/50 [==============>...............] - ETA: 0s - loss: 0.3920 - accuracy: 0.8641\n",
            "Epoch 167: saving model to model/keypoint_classifier\\keypoint_classifier.hdf5\n",
            "50/50 [==============================] - 0s 4ms/step - loss: 0.3983 - accuracy: 0.8597 - val_loss: 0.1451 - val_accuracy: 0.9847\n",
            "Epoch 168/1000\n",
            "27/50 [===============>..............] - ETA: 0s - loss: 0.4076 - accuracy: 0.8504\n",
            "Epoch 168: saving model to model/keypoint_classifier\\keypoint_classifier.hdf5\n",
            "50/50 [==============================] - 0s 4ms/step - loss: 0.4028 - accuracy: 0.8565 - val_loss: 0.1476 - val_accuracy: 0.9843\n",
            "Epoch 169/1000\n",
            "27/50 [===============>..............] - ETA: 0s - loss: 0.3850 - accuracy: 0.8652\n",
            "Epoch 169: saving model to model/keypoint_classifier\\keypoint_classifier.hdf5\n",
            "50/50 [==============================] - 0s 3ms/step - loss: 0.3933 - accuracy: 0.8641 - val_loss: 0.1456 - val_accuracy: 0.9847\n",
            "Epoch 170/1000\n",
            "26/50 [==============>...............] - ETA: 0s - loss: 0.3976 - accuracy: 0.8603\n",
            "Epoch 170: saving model to model/keypoint_classifier\\keypoint_classifier.hdf5\n",
            "50/50 [==============================] - 0s 4ms/step - loss: 0.3939 - accuracy: 0.8622 - val_loss: 0.1484 - val_accuracy: 0.9847\n",
            "Epoch 171/1000\n",
            "50/50 [==============================] - ETA: 0s - loss: 0.3979 - accuracy: 0.8581\n",
            "Epoch 171: saving model to model/keypoint_classifier\\keypoint_classifier.hdf5\n",
            "50/50 [==============================] - 0s 4ms/step - loss: 0.3979 - accuracy: 0.8581 - val_loss: 0.1459 - val_accuracy: 0.9843\n",
            "Epoch 172/1000\n",
            "47/50 [===========================>..] - ETA: 0s - loss: 0.3937 - accuracy: 0.8574\n",
            "Epoch 172: saving model to model/keypoint_classifier\\keypoint_classifier.hdf5\n",
            "50/50 [==============================] - 0s 4ms/step - loss: 0.3939 - accuracy: 0.8576 - val_loss: 0.1396 - val_accuracy: 0.9847\n",
            "Epoch 173/1000\n",
            "50/50 [==============================] - ETA: 0s - loss: 0.3983 - accuracy: 0.8616\n",
            "Epoch 173: saving model to model/keypoint_classifier\\keypoint_classifier.hdf5\n",
            "50/50 [==============================] - 0s 5ms/step - loss: 0.3983 - accuracy: 0.8616 - val_loss: 0.1480 - val_accuracy: 0.9843\n",
            "Epoch 174/1000\n",
            "28/50 [===============>..............] - ETA: 0s - loss: 0.3754 - accuracy: 0.8705\n",
            "Epoch 174: saving model to model/keypoint_classifier\\keypoint_classifier.hdf5\n",
            "50/50 [==============================] - 0s 3ms/step - loss: 0.3903 - accuracy: 0.8663 - val_loss: 0.1411 - val_accuracy: 0.9847\n",
            "Epoch 175/1000\n",
            "28/50 [===============>..............] - ETA: 0s - loss: 0.3845 - accuracy: 0.8652\n",
            "Epoch 175: saving model to model/keypoint_classifier\\keypoint_classifier.hdf5\n",
            "50/50 [==============================] - 0s 4ms/step - loss: 0.3850 - accuracy: 0.8670 - val_loss: 0.1407 - val_accuracy: 0.9847\n",
            "Epoch 176/1000\n",
            "25/50 [==============>...............] - ETA: 0s - loss: 0.4004 - accuracy: 0.8578\n",
            "Epoch 176: saving model to model/keypoint_classifier\\keypoint_classifier.hdf5\n",
            "50/50 [==============================] - 0s 4ms/step - loss: 0.3891 - accuracy: 0.8627 - val_loss: 0.1410 - val_accuracy: 0.9847\n",
            "Epoch 177/1000\n",
            "26/50 [==============>...............] - ETA: 0s - loss: 0.3877 - accuracy: 0.8666\n",
            "Epoch 177: saving model to model/keypoint_classifier\\keypoint_classifier.hdf5\n",
            "50/50 [==============================] - 0s 4ms/step - loss: 0.3978 - accuracy: 0.8611 - val_loss: 0.1458 - val_accuracy: 0.9847\n",
            "Epoch 178/1000\n",
            "49/50 [============================>.] - ETA: 0s - loss: 0.3909 - accuracy: 0.8635\n",
            "Epoch 178: saving model to model/keypoint_classifier\\keypoint_classifier.hdf5\n",
            "50/50 [==============================] - 0s 5ms/step - loss: 0.3906 - accuracy: 0.8636 - val_loss: 0.1431 - val_accuracy: 0.9828\n",
            "Epoch 179/1000\n",
            "50/50 [==============================] - ETA: 0s - loss: 0.3954 - accuracy: 0.8616\n",
            "Epoch 179: saving model to model/keypoint_classifier\\keypoint_classifier.hdf5\n",
            "50/50 [==============================] - 0s 4ms/step - loss: 0.3954 - accuracy: 0.8616 - val_loss: 0.1406 - val_accuracy: 0.9828\n",
            "Epoch 180/1000\n",
            "31/50 [=================>............] - ETA: 0s - loss: 0.3808 - accuracy: 0.8639\n",
            "Epoch 180: saving model to model/keypoint_classifier\\keypoint_classifier.hdf5\n",
            "50/50 [==============================] - 0s 4ms/step - loss: 0.3842 - accuracy: 0.8648 - val_loss: 0.1407 - val_accuracy: 0.9838\n",
            "Epoch 180: early stopping\n"
          ]
        },
        {
          "data": {
            "text/plain": [
              "<keras.src.callbacks.History at 0x1b6f0c79ed0>"
            ]
          },
          "execution_count": 11,
          "metadata": {},
          "output_type": "execute_result"
        }
      ],
      "source": [
        "model.fit(\n",
        "    X_train,\n",
        "    y_train,\n",
        "    epochs=1000,\n",
        "    batch_size=128,\n",
        "    validation_data=(X_test, y_test),\n",
        "    callbacks=[cp_callback, es_callback]\n",
        ")"
      ]
    },
    {
      "cell_type": "code",
      "execution_count": 12,
      "metadata": {
        "colab": {
          "base_uri": "https://localhost:8080/"
        },
        "id": "pxvb2Y299hE3",
        "outputId": "59eb3185-2e37-4b9e-bc9d-ab1b8ac29b7f"
      },
      "outputs": [
        {
          "name": "stdout",
          "output_type": "stream",
          "text": [
            "17/17 [==============================] - 0s 1ms/step - loss: 0.1407 - accuracy: 0.9838\n"
          ]
        }
      ],
      "source": [
        "# Model evaluation\n",
        "val_loss, val_acc = model.evaluate(X_test, y_test, batch_size=128)"
      ]
    },
    {
      "cell_type": "code",
      "execution_count": 13,
      "metadata": {
        "id": "RBkmDeUW9hE4"
      },
      "outputs": [],
      "source": [
        "# Loading the saved model\n",
        "model = tf.keras.models.load_model(model_save_path)"
      ]
    },
    {
      "cell_type": "code",
      "execution_count": 14,
      "metadata": {
        "colab": {
          "base_uri": "https://localhost:8080/"
        },
        "id": "tFz9Tb0I9hE4",
        "outputId": "1c3b3528-54ae-4ee2-ab04-77429211cbef"
      },
      "outputs": [
        {
          "name": "stdout",
          "output_type": "stream",
          "text": [
            "1/1 [==============================] - 0s 90ms/step\n",
            "[0.12324362 0.7718401  0.10017706 0.00473931]\n",
            "1\n"
          ]
        }
      ],
      "source": [
        "# Inference test\n",
        "predict_result = model.predict(np.array([X_test[0]]))\n",
        "print(np.squeeze(predict_result))\n",
        "print(np.argmax(np.squeeze(predict_result)))"
      ]
    },
    {
      "cell_type": "markdown",
      "metadata": {
        "id": "S3U4yNWx9hE4"
      },
      "source": [
        "# Confusion matrix"
      ]
    },
    {
      "cell_type": "code",
      "execution_count": 15,
      "metadata": {
        "colab": {
          "base_uri": "https://localhost:8080/",
          "height": 582
        },
        "id": "AP1V6SCk9hE5",
        "outputId": "08e41a80-7a4a-4619-8125-ecc371368d19"
      },
      "outputs": [
        {
          "name": "stdout",
          "output_type": "stream",
          "text": [
            "66/66 [==============================] - 0s 1ms/step\n"
          ]
        },
        {
          "data": {
            "image/png": "[encoded data removed]",
            "text/plain": [
              "<Figure size 700x600 with 2 Axes>"
            ]
          },
          "metadata": {},
          "output_type": "display_data"
        },
        {
          "name": "stdout",
          "output_type": "stream",
          "text": [
            "Classification Report\n",
            "              precision    recall  f1-score   support\n",
            "\n",
            "           0       0.97      0.99      0.98       535\n",
            "           1       0.99      1.00      0.99       636\n",
            "           2       0.99      1.00      0.99       762\n",
            "           3       1.00      0.83      0.91       163\n",
            "\n",
            "    accuracy                           0.98      2096\n",
            "   macro avg       0.99      0.95      0.97      2096\n",
            "weighted avg       0.98      0.98      0.98      2096\n",
            "\n"
          ]
        }
      ],
      "source": [
        "import pandas as pd\n",
        "import seaborn as sns\n",
        "import matplotlib.pyplot as plt\n",
        "from sklearn.metrics import confusion_matrix, classification_report\n",
        "\n",
        "def print_confusion_matrix(y_true, y_pred, report=True):\n",
        "    labels = sorted(list(set(y_true)))\n",
        "    cmx_data = confusion_matrix(y_true, y_pred, labels=labels)\n",
        "    \n",
        "    df_cmx = pd.DataFrame(cmx_data, index=labels, columns=labels)\n",
        " \n",
        "    fig, ax = plt.subplots(figsize=(7, 6))\n",
        "    sns.heatmap(df_cmx, annot=True, fmt='g' ,square=False)\n",
        "    ax.set_ylim(len(set(y_true)), 0)\n",
        "    plt.show()\n",
        "    \n",
        "    if report:\n",
        "        print('Classification Report')\n",
        "        print(classification_report(y_test, y_pred))\n",
        "\n",
        "Y_pred = model.predict(X_test)\n",
        "y_pred = np.argmax(Y_pred, axis=1)\n",
        "\n",
        "print_confusion_matrix(y_test, y_pred)"
      ]
    },
    {
      "cell_type": "markdown",
      "metadata": {
        "id": "FNP6aqzc9hE5"
      },
      "source": [
        "# Convert to model for Tensorflow-Lite"
      ]
    },
    {
      "cell_type": "code",
      "execution_count": 16,
      "metadata": {
        "id": "ODjnYyld9hE6"
      },
      "outputs": [
        {
          "name": "stderr",
          "output_type": "stream",
          "text": [
            "C:\\Users\\prxm3\\AppData\\Local\\Packages\\PythonSoftwareFoundation.Python.3.11_qbz5n2kfra8p0\\LocalCache\\local-packages\\Python311\\site-packages\\keras\\src\\engine\\training.py:3103: UserWarning: You are saving your model as an HDF5 file via `model.save()`. This file format is considered legacy. We recommend using instead the native Keras format, e.g. `model.save('my_model.keras')`.\n",
            "  saving_api.save_model(\n"
          ]
        }
      ],
      "source": [
        "# Save as a model dedicated to inference\n",
        "model.save(model_save_path, include_optimizer=False)"
      ]
    },
    {
      "cell_type": "code",
      "execution_count": 17,
      "metadata": {
        "colab": {
          "base_uri": "https://localhost:8080/"
        },
        "id": "zRfuK8Y59hE6",
        "outputId": "a4ca585c-b5d5-4244-8291-8674063209bb"
      },
      "outputs": [
        {
          "name": "stdout",
          "output_type": "stream",
          "text": [
            "INFO:tensorflow:Assets written to: C:\\Users\\prxm3\\AppData\\Local\\Temp\\tmpy6exvyqe\\assets\n"
          ]
        },
        {
          "name": "stderr",
          "output_type": "stream",
          "text": [
            "INFO:tensorflow:Assets written to: C:\\Users\\prxm3\\AppData\\Local\\Temp\\tmpy6exvyqe\\assets\n"
          ]
        },
        {
          "data": {
            "text/plain": [
              "6544"
            ]
          },
          "execution_count": 17,
          "metadata": {},
          "output_type": "execute_result"
        }
      ],
      "source": [
        "# Transform model (quantization)\n",
        "\n",
        "converter = tf.lite.TFLiteConverter.from_keras_model(model)\n",
        "converter.optimizations = [tf.lite.Optimize.DEFAULT]\n",
        "tflite_quantized_model = converter.convert()\n",
        "\n",
        "open(tflite_save_path, 'wb').write(tflite_quantized_model)"
      ]
    },
    {
      "cell_type": "markdown",
      "metadata": {
        "id": "CHBPBXdx9hE6"
      },
      "source": [
        "# Inference test"
      ]
    },
    {
      "cell_type": "code",
      "execution_count": 18,
      "metadata": {
        "id": "mGAzLocO9hE7"
      },
      "outputs": [],
      "source": [
        "interpreter = tf.lite.Interpreter(model_path=tflite_save_path)\n",
        "interpreter.allocate_tensors()"
      ]
    },
    {
      "cell_type": "code",
      "execution_count": 19,
      "metadata": {
        "id": "oQuDK8YS9hE7"
      },
      "outputs": [],
      "source": [
        "# Get I / O tensor\n",
        "input_details = interpreter.get_input_details()\n",
        "output_details = interpreter.get_output_details()"
      ]
    },
    {
      "cell_type": "code",
      "execution_count": 20,
      "metadata": {
        "id": "2_ixAf_l9hE7"
      },
      "outputs": [],
      "source": [
        "interpreter.set_tensor(input_details[0]['index'], np.array([X_test[0]]))"
      ]
    },
    {
      "cell_type": "code",
      "execution_count": 21,
      "metadata": {
        "colab": {
          "base_uri": "https://localhost:8080/"
        },
        "id": "s4FoAnuc9hE7",
        "outputId": "91f18257-8d8b-4ef3-c558-e9b5f94fabbf",
        "scrolled": true
      },
      "outputs": [
        {
          "name": "stdout",
          "output_type": "stream",
          "text": [
            "CPU times: total: 0 ns\n",
            "Wall time: 0 ns\n"
          ]
        }
      ],
      "source": [
        "%%time\n",
        "# Inference implementation\n",
        "interpreter.invoke()\n",
        "tflite_results = interpreter.get_tensor(output_details[0]['index'])"
      ]
    },
    {
      "cell_type": "code",
      "execution_count": 22,
      "metadata": {
        "colab": {
          "base_uri": "https://localhost:8080/"
        },
        "id": "vONjp19J9hE8",
        "outputId": "77205e24-fd00-42c4-f7b6-e06e527c2cba"
      },
      "outputs": [
        {
          "name": "stdout",
          "output_type": "stream",
          "text": [
            "[0.12324356 0.77184016 0.10017701 0.00473931]\n",
            "1\n"
          ]
        }
      ],
      "source": [
        "print(np.squeeze(tflite_results))\n",
        "print(np.argmax(np.squeeze(tflite_results)))"
      ]
    }
  ],
  "metadata": {
    "accelerator": "GPU",
    "colab": {
      "collapsed_sections": [],
      "name": "keypoint_classification_EN.ipynb",
      "provenance": [],
      "toc_visible": true
    },
    "kernelspec": {
      "display_name": "Python 3",
      "language": "python",
      "name": "python3"
    },
    "language_info": {
      "codemirror_mode": {
        "name": "ipython",
        "version": 3
      },
      "file_extension": ".py",
      "mimetype": "text/x-python",
      "name": "python",
      "nbconvert_exporter": "python",
      "pygments_lexer": "ipython3",
      "version": "3.11.7"
    }
  },
  "nbformat": 4,
  "nbformat_minor": 0
}
