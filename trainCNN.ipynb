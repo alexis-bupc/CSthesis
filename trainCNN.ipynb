{
  "cells": [
    {
      "cell_type": "code",
      "execution_count": 2,
      "metadata": {
        "id": "igMyGnjE9hEp"
      },
      "outputs": [
        {
          "name": "stdout",
          "output_type": "stream",
          "text": [
            "WARNING:tensorflow:From C:\\Users\\prxm3\\AppData\\Local\\Packages\\PythonSoftwareFoundation.Python.3.11_qbz5n2kfra8p0\\LocalCache\\local-packages\\Python311\\site-packages\\keras\\src\\losses.py:2976: The name tf.losses.sparse_softmax_cross_entropy is deprecated. Please use tf.compat.v1.losses.sparse_softmax_cross_entropy instead.\n",
            "\n"
          ]
        }
      ],
      "source": [
        "import csv\n",
        "\n",
        "import numpy as np\n",
        "import tensorflow as tf\n",
        "from sklearn.model_selection import train_test_split\n",
        "\n",
        "RANDOM_SEED = 42"
      ]
    },
    {
      "cell_type": "markdown",
      "metadata": {
        "id": "t2HDvhIu9hEr"
      },
      "source": [
        "# Specify each path"
      ]
    },
    {
      "cell_type": "code",
      "execution_count": 3,
      "metadata": {
        "id": "9NvZP2Zn9hEy"
      },
      "outputs": [],
      "source": [
        "dataset = 'model/keypoint_classifier/keypoint.csv'\n",
        "model_save_path = 'model/keypoint_classifier/keypoint_classifier.hdf5'\n",
        "tflite_save_path = 'model/keypoint_classifier/keypoint_classifier.tflite'"
      ]
    },
    {
      "cell_type": "markdown",
      "metadata": {
        "id": "s5oMH7x19hEz"
      },
      "source": [
        "# Set number of classes"
      ]
    },
    {
      "cell_type": "code",
      "execution_count": 4,
      "metadata": {
        "id": "du4kodXL9hEz"
      },
      "outputs": [],
      "source": [
        "NUM_CLASSES = 4"
      ]
    },
    {
      "cell_type": "markdown",
      "metadata": {
        "id": "XjnL0uso9hEz"
      },
      "source": [
        "# Dataset reading"
      ]
    },
    {
      "cell_type": "code",
      "execution_count": 5,
      "metadata": {
        "id": "QT5ZqtEz9hE0"
      },
      "outputs": [],
      "source": [
        "X_dataset = np.loadtxt(dataset, delimiter=',', dtype='float32', usecols=list(range(1, (21 * 2) + 1)))"
      ]
    },
    {
      "cell_type": "code",
      "execution_count": 6,
      "metadata": {
        "id": "QmoKFsp49hE0"
      },
      "outputs": [],
      "source": [
        "y_dataset = np.loadtxt(dataset, delimiter=',', dtype='int32', usecols=(0))"
      ]
    },
    {
      "cell_type": "code",
      "execution_count": 7,
      "metadata": {
        "id": "xQU7JTZ_9hE0"
      },
      "outputs": [],
      "source": [
        "X_train, X_test, y_train, y_test = train_test_split(X_dataset, y_dataset, train_size=0.75, random_state=RANDOM_SEED)"
      ]
    },
    {
      "cell_type": "markdown",
      "metadata": {
        "id": "mxK_lETT9hE0"
      },
      "source": [
        "# Model building"
      ]
    },
    {
      "cell_type": "code",
      "execution_count": 8,
      "metadata": {
        "id": "vHBmUf1t9hE1"
      },
      "outputs": [
        {
          "name": "stdout",
          "output_type": "stream",
          "text": [
            "WARNING:tensorflow:From C:\\Users\\prxm3\\AppData\\Local\\Packages\\PythonSoftwareFoundation.Python.3.11_qbz5n2kfra8p0\\LocalCache\\local-packages\\Python311\\site-packages\\keras\\src\\backend.py:1398: The name tf.executing_eagerly_outside_functions is deprecated. Please use tf.compat.v1.executing_eagerly_outside_functions instead.\n",
            "\n"
          ]
        }
      ],
      "source": [
        "model = tf.keras.models.Sequential([\n",
        "    tf.keras.layers.Input((21 * 2, )),\n",
        "    tf.keras.layers.Dropout(0.2),\n",
        "    tf.keras.layers.Dense(20, activation='relu'),\n",
        "    tf.keras.layers.Dropout(0.4),\n",
        "    tf.keras.layers.Dense(10, activation='relu'),\n",
        "    tf.keras.layers.Dense(NUM_CLASSES, activation='softmax')\n",
        "])"
      ]
    },
    {
      "cell_type": "code",
      "execution_count": 9,
      "metadata": {
        "colab": {
          "base_uri": "https://localhost:8080/"
        },
        "id": "ypqky9tc9hE1",
        "outputId": "5db082bb-30e3-4110-bf63-a1ee777ecd46"
      },
      "outputs": [
        {
          "name": "stdout",
          "output_type": "stream",
          "text": [
            "Model: \"sequential\"\n",
            "_________________________________________________________________\n",
            " Layer (type)                Output Shape              Param #   \n",
            "=================================================================\n",
            " dropout (Dropout)           (None, 42)                0         \n",
            "                                                                 \n",
            " dense (Dense)               (None, 20)                860       \n",
            "                                                                 \n",
            " dropout_1 (Dropout)         (None, 20)                0         \n",
            "                                                                 \n",
            " dense_1 (Dense)             (None, 10)                210       \n",
            "                                                                 \n",
            " dense_2 (Dense)             (None, 4)                 44        \n",
            "                                                                 \n",
            "=================================================================\n",
            "Total params: 1114 (4.35 KB)\n",
            "Trainable params: 1114 (4.35 KB)\n",
            "Non-trainable params: 0 (0.00 Byte)\n",
            "_________________________________________________________________\n"
          ]
        }
      ],
      "source": [
        "model.summary()  # tf.keras.utils.plot_model(model, show_shapes=True)"
      ]
    },
    {
      "cell_type": "code",
      "execution_count": 10,
      "metadata": {
        "id": "MbMjOflQ9hE1"
      },
      "outputs": [],
      "source": [
        "# Model checkpoint callback\n",
        "cp_callback = tf.keras.callbacks.ModelCheckpoint(\n",
        "    model_save_path, verbose=1, save_weights_only=False)\n",
        "# Callback for early stopping\n",
        "es_callback = tf.keras.callbacks.EarlyStopping(patience=20, verbose=1)"
      ]
    },
    {
      "cell_type": "code",
      "execution_count": 11,
      "metadata": {
        "id": "c3Dac0M_9hE2"
      },
      "outputs": [
        {
          "name": "stdout",
          "output_type": "stream",
          "text": [
            "WARNING:tensorflow:From C:\\Users\\prxm3\\AppData\\Local\\Packages\\PythonSoftwareFoundation.Python.3.11_qbz5n2kfra8p0\\LocalCache\\local-packages\\Python311\\site-packages\\keras\\src\\optimizers\\__init__.py:309: The name tf.train.Optimizer is deprecated. Please use tf.compat.v1.train.Optimizer instead.\n",
            "\n"
          ]
        }
      ],
      "source": [
        "# Model compilation\n",
        "model.compile(\n",
        "    optimizer='adam',\n",
        "    loss='sparse_categorical_crossentropy',\n",
        "    metrics=['accuracy']\n",
        ")"
      ]
    },
    {
      "cell_type": "markdown",
      "metadata": {
        "id": "7XI0j1Iu9hE2"
      },
      "source": [
        "# Model training"
      ]
    },
    {
      "cell_type": "code",
      "execution_count": 12,
      "metadata": {
        "colab": {
          "base_uri": "https://localhost:8080/"
        },
        "id": "WirBl-JE9hE3",
        "outputId": "71b30ca2-8294-4d9d-8aa2-800d90d399de",
        "scrolled": true
      },
      "outputs": [
        {
          "name": "stdout",
          "output_type": "stream",
          "text": [
            "Epoch 1/1000\n",
            "WARNING:tensorflow:From C:\\Users\\prxm3\\AppData\\Local\\Packages\\PythonSoftwareFoundation.Python.3.11_qbz5n2kfra8p0\\LocalCache\\local-packages\\Python311\\site-packages\\keras\\src\\utils\\tf_utils.py:492: The name tf.ragged.RaggedTensorValue is deprecated. Please use tf.compat.v1.ragged.RaggedTensorValue instead.\n",
            "\n",
            "WARNING:tensorflow:From C:\\Users\\prxm3\\AppData\\Local\\Packages\\PythonSoftwareFoundation.Python.3.11_qbz5n2kfra8p0\\LocalCache\\local-packages\\Python311\\site-packages\\keras\\src\\engine\\base_layer_utils.py:384: The name tf.executing_eagerly_outside_functions is deprecated. Please use tf.compat.v1.executing_eagerly_outside_functions instead.\n",
            "\n",
            "30/50 [=================>............] - ETA: 0s - loss: 1.3318 - accuracy: 0.3492 \n",
            "Epoch 1: saving model to model/keypoint_classifier\\keypoint_classifier.hdf5\n",
            "50/50 [==============================] - 1s 9ms/step - loss: 1.3216 - accuracy: 0.3532 - val_loss: 1.2488 - val_accuracy: 0.4117\n",
            "Epoch 2/1000\n",
            "30/50 [=================>............] - ETA: 0s - loss: 1.2661 - accuracy: 0.3758\n",
            "Epoch 2: saving model to model/keypoint_classifier\\keypoint_classifier.hdf5\n"
          ]
        },
        {
          "name": "stderr",
          "output_type": "stream",
          "text": [
            "C:\\Users\\prxm3\\AppData\\Local\\Packages\\PythonSoftwareFoundation.Python.3.11_qbz5n2kfra8p0\\LocalCache\\local-packages\\Python311\\site-packages\\keras\\src\\engine\\training.py:3103: UserWarning: You are saving your model as an HDF5 file via `model.save()`. This file format is considered legacy. We recommend using instead the native Keras format, e.g. `model.save('my_model.keras')`.\n",
            "  saving_api.save_model(\n"
          ]
        },
        {
          "name": "stdout",
          "output_type": "stream",
          "text": [
            "50/50 [==============================] - 0s 4ms/step - loss: 1.2528 - accuracy: 0.3801 - val_loss: 1.1914 - val_accuracy: 0.4189\n",
            "Epoch 3/1000\n",
            "23/50 [============>.................] - ETA: 0s - loss: 1.2202 - accuracy: 0.3865\n",
            "Epoch 3: saving model to model/keypoint_classifier\\keypoint_classifier.hdf5\n",
            "50/50 [==============================] - 0s 3ms/step - loss: 1.2147 - accuracy: 0.3970 - val_loss: 1.1541 - val_accuracy: 0.4656\n",
            "Epoch 4/1000\n",
            "32/50 [==================>...........] - ETA: 0s - loss: 1.1935 - accuracy: 0.4199\n",
            "Epoch 4: saving model to model/keypoint_classifier\\keypoint_classifier.hdf5\n",
            "50/50 [==============================] - 0s 4ms/step - loss: 1.1843 - accuracy: 0.4237 - val_loss: 1.1202 - val_accuracy: 0.5339\n",
            "Epoch 5/1000\n",
            "28/50 [===============>..............] - ETA: 0s - loss: 1.1598 - accuracy: 0.4347\n",
            "Epoch 5: saving model to model/keypoint_classifier\\keypoint_classifier.hdf5\n",
            "50/50 [==============================] - 0s 4ms/step - loss: 1.1531 - accuracy: 0.4414 - val_loss: 1.0821 - val_accuracy: 0.6384\n",
            "Epoch 6/1000\n",
            "32/50 [==================>...........] - ETA: 0s - loss: 1.1354 - accuracy: 0.4595\n",
            "Epoch 6: saving model to model/keypoint_classifier\\keypoint_classifier.hdf5\n",
            "50/50 [==============================] - 0s 3ms/step - loss: 1.1282 - accuracy: 0.4628 - val_loss: 1.0350 - val_accuracy: 0.6441\n",
            "Epoch 7/1000\n",
            "30/50 [=================>............] - ETA: 0s - loss: 1.0975 - accuracy: 0.4945\n",
            "Epoch 7: saving model to model/keypoint_classifier\\keypoint_classifier.hdf5\n",
            "50/50 [==============================] - 0s 4ms/step - loss: 1.0934 - accuracy: 0.4950 - val_loss: 0.9800 - val_accuracy: 0.6651\n",
            "Epoch 8/1000\n",
            "35/50 [====================>.........] - ETA: 0s - loss: 1.0689 - accuracy: 0.5114\n",
            "Epoch 8: saving model to model/keypoint_classifier\\keypoint_classifier.hdf5\n",
            "50/50 [==============================] - 0s 4ms/step - loss: 1.0581 - accuracy: 0.5165 - val_loss: 0.9218 - val_accuracy: 0.7109\n",
            "Epoch 9/1000\n",
            "28/50 [===============>..............] - ETA: 0s - loss: 1.0255 - accuracy: 0.5444\n",
            "Epoch 9: saving model to model/keypoint_classifier\\keypoint_classifier.hdf5\n",
            "50/50 [==============================] - 0s 4ms/step - loss: 1.0211 - accuracy: 0.5510 - val_loss: 0.8637 - val_accuracy: 0.7357\n",
            "Epoch 10/1000\n",
            "33/50 [==================>...........] - ETA: 0s - loss: 0.9914 - accuracy: 0.5687\n",
            "Epoch 10: saving model to model/keypoint_classifier\\keypoint_classifier.hdf5\n",
            "50/50 [==============================] - 0s 4ms/step - loss: 0.9845 - accuracy: 0.5730 - val_loss: 0.8155 - val_accuracy: 0.7471\n",
            "Epoch 11/1000\n",
            "40/50 [=======================>......] - ETA: 0s - loss: 0.9566 - accuracy: 0.5898\n",
            "Epoch 11: saving model to model/keypoint_classifier\\keypoint_classifier.hdf5\n",
            "50/50 [==============================] - 0s 4ms/step - loss: 0.9523 - accuracy: 0.5917 - val_loss: 0.7638 - val_accuracy: 0.7829\n",
            "Epoch 12/1000\n",
            "27/50 [===============>..............] - ETA: 0s - loss: 0.9264 - accuracy: 0.6094\n",
            "Epoch 12: saving model to model/keypoint_classifier\\keypoint_classifier.hdf5\n",
            "50/50 [==============================] - 0s 4ms/step - loss: 0.9192 - accuracy: 0.6159 - val_loss: 0.7139 - val_accuracy: 0.7944\n",
            "Epoch 13/1000\n",
            "28/50 [===============>..............] - ETA: 0s - loss: 0.9140 - accuracy: 0.6211\n",
            "Epoch 13: saving model to model/keypoint_classifier\\keypoint_classifier.hdf5\n",
            "50/50 [==============================] - 0s 4ms/step - loss: 0.9003 - accuracy: 0.6318 - val_loss: 0.6678 - val_accuracy: 0.8531\n",
            "Epoch 14/1000\n",
            "34/50 [===================>..........] - ETA: 0s - loss: 0.8756 - accuracy: 0.6452\n",
            "Epoch 14: saving model to model/keypoint_classifier\\keypoint_classifier.hdf5\n",
            "50/50 [==============================] - 0s 4ms/step - loss: 0.8679 - accuracy: 0.6474 - val_loss: 0.6219 - val_accuracy: 0.8888\n",
            "Epoch 15/1000\n",
            "30/50 [=================>............] - ETA: 0s - loss: 0.8353 - accuracy: 0.6685\n",
            "Epoch 15: saving model to model/keypoint_classifier\\keypoint_classifier.hdf5\n",
            "50/50 [==============================] - 0s 4ms/step - loss: 0.8358 - accuracy: 0.6648 - val_loss: 0.5838 - val_accuracy: 0.9103\n",
            "Epoch 16/1000\n",
            "24/50 [=============>................] - ETA: 0s - loss: 0.8202 - accuracy: 0.6729\n",
            "Epoch 16: saving model to model/keypoint_classifier\\keypoint_classifier.hdf5\n",
            "50/50 [==============================] - 0s 4ms/step - loss: 0.8210 - accuracy: 0.6711 - val_loss: 0.5527 - val_accuracy: 0.9265\n",
            "Epoch 17/1000\n",
            "26/50 [==============>...............] - ETA: 0s - loss: 0.8045 - accuracy: 0.6854\n",
            "Epoch 17: saving model to model/keypoint_classifier\\keypoint_classifier.hdf5\n",
            "50/50 [==============================] - 0s 4ms/step - loss: 0.8008 - accuracy: 0.6856 - val_loss: 0.5211 - val_accuracy: 0.9256\n",
            "Epoch 18/1000\n",
            "33/50 [==================>...........] - ETA: 0s - loss: 0.7691 - accuracy: 0.6929\n",
            "Epoch 18: saving model to model/keypoint_classifier\\keypoint_classifier.hdf5\n",
            "50/50 [==============================] - 0s 4ms/step - loss: 0.7750 - accuracy: 0.6947 - val_loss: 0.4907 - val_accuracy: 0.9451\n",
            "Epoch 19/1000\n",
            "47/50 [===========================>..] - ETA: 0s - loss: 0.7552 - accuracy: 0.7000\n",
            "Epoch 19: saving model to model/keypoint_classifier\\keypoint_classifier.hdf5\n",
            "50/50 [==============================] - 0s 4ms/step - loss: 0.7545 - accuracy: 0.7002 - val_loss: 0.4670 - val_accuracy: 0.9389\n",
            "Epoch 20/1000\n",
            "28/50 [===============>..............] - ETA: 0s - loss: 0.7458 - accuracy: 0.7070\n",
            "Epoch 20: saving model to model/keypoint_classifier\\keypoint_classifier.hdf5\n",
            "50/50 [==============================] - 0s 4ms/step - loss: 0.7403 - accuracy: 0.7041 - val_loss: 0.4420 - val_accuracy: 0.9442\n",
            "Epoch 21/1000\n",
            "32/50 [==================>...........] - ETA: 0s - loss: 0.7171 - accuracy: 0.7190\n",
            "Epoch 21: saving model to model/keypoint_classifier\\keypoint_classifier.hdf5\n",
            "50/50 [==============================] - 0s 4ms/step - loss: 0.7132 - accuracy: 0.7208 - val_loss: 0.4312 - val_accuracy: 0.9494\n",
            "Epoch 22/1000\n",
            "34/50 [===================>..........] - ETA: 0s - loss: 0.7226 - accuracy: 0.7123\n",
            "Epoch 22: saving model to model/keypoint_classifier\\keypoint_classifier.hdf5\n",
            "50/50 [==============================] - 0s 3ms/step - loss: 0.7223 - accuracy: 0.7141 - val_loss: 0.4159 - val_accuracy: 0.9537\n",
            "Epoch 23/1000\n",
            "27/50 [===============>..............] - ETA: 0s - loss: 0.7185 - accuracy: 0.7135\n",
            "Epoch 23: saving model to model/keypoint_classifier\\keypoint_classifier.hdf5\n",
            "50/50 [==============================] - 0s 4ms/step - loss: 0.7102 - accuracy: 0.7150 - val_loss: 0.3982 - val_accuracy: 0.9513\n",
            "Epoch 24/1000\n",
            "32/50 [==================>...........] - ETA: 0s - loss: 0.6696 - accuracy: 0.7378\n",
            "Epoch 24: saving model to model/keypoint_classifier\\keypoint_classifier.hdf5\n",
            "50/50 [==============================] - 0s 4ms/step - loss: 0.6797 - accuracy: 0.7317 - val_loss: 0.3814 - val_accuracy: 0.9604\n",
            "Epoch 25/1000\n",
            "29/50 [================>.............] - ETA: 0s - loss: 0.6750 - accuracy: 0.7271\n",
            "Epoch 25: saving model to model/keypoint_classifier\\keypoint_classifier.hdf5\n",
            "50/50 [==============================] - 0s 4ms/step - loss: 0.6690 - accuracy: 0.7322 - val_loss: 0.3738 - val_accuracy: 0.9528\n",
            "Epoch 26/1000\n",
            "31/50 [=================>............] - ETA: 0s - loss: 0.6673 - accuracy: 0.7397\n",
            "Epoch 26: saving model to model/keypoint_classifier\\keypoint_classifier.hdf5\n",
            "50/50 [==============================] - 0s 4ms/step - loss: 0.6692 - accuracy: 0.7337 - val_loss: 0.3592 - val_accuracy: 0.9614\n",
            "Epoch 27/1000\n",
            "29/50 [================>.............] - ETA: 0s - loss: 0.6733 - accuracy: 0.7252\n",
            "Epoch 27: saving model to model/keypoint_classifier\\keypoint_classifier.hdf5\n",
            "50/50 [==============================] - 0s 4ms/step - loss: 0.6605 - accuracy: 0.7329 - val_loss: 0.3523 - val_accuracy: 0.9599\n",
            "Epoch 28/1000\n",
            "33/50 [==================>...........] - ETA: 0s - loss: 0.6546 - accuracy: 0.7476\n",
            "Epoch 28: saving model to model/keypoint_classifier\\keypoint_classifier.hdf5\n",
            "50/50 [==============================] - 0s 4ms/step - loss: 0.6619 - accuracy: 0.7419 - val_loss: 0.3455 - val_accuracy: 0.9585\n",
            "Epoch 29/1000\n",
            "35/50 [====================>.........] - ETA: 0s - loss: 0.6539 - accuracy: 0.7384\n",
            "Epoch 29: saving model to model/keypoint_classifier\\keypoint_classifier.hdf5\n",
            "50/50 [==============================] - 0s 4ms/step - loss: 0.6478 - accuracy: 0.7405 - val_loss: 0.3426 - val_accuracy: 0.9580\n",
            "Epoch 30/1000\n",
            "32/50 [==================>...........] - ETA: 0s - loss: 0.6589 - accuracy: 0.7363\n",
            "Epoch 30: saving model to model/keypoint_classifier\\keypoint_classifier.hdf5\n",
            "50/50 [==============================] - 0s 4ms/step - loss: 0.6534 - accuracy: 0.7368 - val_loss: 0.3316 - val_accuracy: 0.9614\n",
            "Epoch 31/1000\n",
            "33/50 [==================>...........] - ETA: 0s - loss: 0.6384 - accuracy: 0.7547\n",
            "Epoch 31: saving model to model/keypoint_classifier\\keypoint_classifier.hdf5\n",
            "50/50 [==============================] - 0s 3ms/step - loss: 0.6369 - accuracy: 0.7540 - val_loss: 0.3277 - val_accuracy: 0.9604\n",
            "Epoch 32/1000\n",
            "33/50 [==================>...........] - ETA: 0s - loss: 0.6377 - accuracy: 0.7488\n",
            "Epoch 32: saving model to model/keypoint_classifier\\keypoint_classifier.hdf5\n",
            "50/50 [==============================] - 0s 3ms/step - loss: 0.6305 - accuracy: 0.7550 - val_loss: 0.3222 - val_accuracy: 0.9599\n",
            "Epoch 33/1000\n",
            "30/50 [=================>............] - ETA: 0s - loss: 0.6421 - accuracy: 0.7469\n",
            "Epoch 33: saving model to model/keypoint_classifier\\keypoint_classifier.hdf5\n",
            "50/50 [==============================] - 0s 4ms/step - loss: 0.6299 - accuracy: 0.7540 - val_loss: 0.3123 - val_accuracy: 0.9618\n",
            "Epoch 34/1000\n",
            "37/50 [=====================>........] - ETA: 0s - loss: 0.6182 - accuracy: 0.7540\n",
            "Epoch 34: saving model to model/keypoint_classifier\\keypoint_classifier.hdf5\n",
            "50/50 [==============================] - 0s 3ms/step - loss: 0.6255 - accuracy: 0.7510 - val_loss: 0.3108 - val_accuracy: 0.9647\n",
            "Epoch 35/1000\n",
            "38/50 [=====================>........] - ETA: 0s - loss: 0.6067 - accuracy: 0.7625\n",
            "Epoch 35: saving model to model/keypoint_classifier\\keypoint_classifier.hdf5\n",
            "50/50 [==============================] - 0s 4ms/step - loss: 0.6080 - accuracy: 0.7613 - val_loss: 0.3091 - val_accuracy: 0.9628\n",
            "Epoch 36/1000\n",
            "37/50 [=====================>........] - ETA: 0s - loss: 0.6163 - accuracy: 0.7568\n",
            "Epoch 36: saving model to model/keypoint_classifier\\keypoint_classifier.hdf5\n",
            "50/50 [==============================] - 0s 4ms/step - loss: 0.6142 - accuracy: 0.7583 - val_loss: 0.2936 - val_accuracy: 0.9642\n",
            "Epoch 37/1000\n",
            "29/50 [================>.............] - ETA: 0s - loss: 0.6158 - accuracy: 0.7508\n",
            "Epoch 37: saving model to model/keypoint_classifier\\keypoint_classifier.hdf5\n",
            "50/50 [==============================] - 0s 4ms/step - loss: 0.6095 - accuracy: 0.7505 - val_loss: 0.2887 - val_accuracy: 0.9642\n",
            "Epoch 38/1000\n",
            "36/50 [====================>.........] - ETA: 0s - loss: 0.6111 - accuracy: 0.7617\n",
            "Epoch 38: saving model to model/keypoint_classifier\\keypoint_classifier.hdf5\n",
            "50/50 [==============================] - 0s 3ms/step - loss: 0.6050 - accuracy: 0.7632 - val_loss: 0.2857 - val_accuracy: 0.9618\n",
            "Epoch 39/1000\n",
            "50/50 [==============================] - ETA: 0s - loss: 0.6089 - accuracy: 0.7583\n",
            "Epoch 39: saving model to model/keypoint_classifier\\keypoint_classifier.hdf5\n",
            "50/50 [==============================] - 0s 4ms/step - loss: 0.6089 - accuracy: 0.7583 - val_loss: 0.2853 - val_accuracy: 0.9637\n",
            "Epoch 40/1000\n",
            "38/50 [=====================>........] - ETA: 0s - loss: 0.6045 - accuracy: 0.7613\n",
            "Epoch 40: saving model to model/keypoint_classifier\\keypoint_classifier.hdf5\n",
            "50/50 [==============================] - 0s 3ms/step - loss: 0.6017 - accuracy: 0.7637 - val_loss: 0.2924 - val_accuracy: 0.9618\n",
            "Epoch 41/1000\n",
            "31/50 [=================>............] - ETA: 0s - loss: 0.5874 - accuracy: 0.7661\n",
            "Epoch 41: saving model to model/keypoint_classifier\\keypoint_classifier.hdf5\n",
            "50/50 [==============================] - 0s 4ms/step - loss: 0.5905 - accuracy: 0.7671 - val_loss: 0.2760 - val_accuracy: 0.9642\n",
            "Epoch 42/1000\n",
            "50/50 [==============================] - ETA: 0s - loss: 0.5758 - accuracy: 0.7734\n",
            "Epoch 42: saving model to model/keypoint_classifier\\keypoint_classifier.hdf5\n",
            "50/50 [==============================] - 0s 4ms/step - loss: 0.5758 - accuracy: 0.7734 - val_loss: 0.2697 - val_accuracy: 0.9661\n",
            "Epoch 43/1000\n",
            "33/50 [==================>...........] - ETA: 0s - loss: 0.5726 - accuracy: 0.7732\n",
            "Epoch 43: saving model to model/keypoint_classifier\\keypoint_classifier.hdf5\n",
            "50/50 [==============================] - 0s 4ms/step - loss: 0.5763 - accuracy: 0.7707 - val_loss: 0.2729 - val_accuracy: 0.9656\n",
            "Epoch 44/1000\n",
            "33/50 [==================>...........] - ETA: 0s - loss: 0.5737 - accuracy: 0.7768\n",
            "Epoch 44: saving model to model/keypoint_classifier\\keypoint_classifier.hdf5\n",
            "50/50 [==============================] - 0s 4ms/step - loss: 0.5812 - accuracy: 0.7710 - val_loss: 0.2713 - val_accuracy: 0.9676\n",
            "Epoch 45/1000\n",
            "32/50 [==================>...........] - ETA: 0s - loss: 0.5839 - accuracy: 0.7737\n",
            "Epoch 45: saving model to model/keypoint_classifier\\keypoint_classifier.hdf5\n",
            "50/50 [==============================] - 0s 4ms/step - loss: 0.5828 - accuracy: 0.7704 - val_loss: 0.2683 - val_accuracy: 0.9642\n",
            "Epoch 46/1000\n",
            "34/50 [===================>..........] - ETA: 0s - loss: 0.5853 - accuracy: 0.7695\n",
            "Epoch 46: saving model to model/keypoint_classifier\\keypoint_classifier.hdf5\n",
            "50/50 [==============================] - 0s 4ms/step - loss: 0.5795 - accuracy: 0.7723 - val_loss: 0.2714 - val_accuracy: 0.9637\n",
            "Epoch 47/1000\n",
            "31/50 [=================>............] - ETA: 0s - loss: 0.5674 - accuracy: 0.7767\n",
            "Epoch 47: saving model to model/keypoint_classifier\\keypoint_classifier.hdf5\n",
            "50/50 [==============================] - 0s 3ms/step - loss: 0.5654 - accuracy: 0.7776 - val_loss: 0.2571 - val_accuracy: 0.9652\n",
            "Epoch 48/1000\n",
            "28/50 [===============>..............] - ETA: 0s - loss: 0.5745 - accuracy: 0.7748\n",
            "Epoch 48: saving model to model/keypoint_classifier\\keypoint_classifier.hdf5\n",
            "50/50 [==============================] - 0s 4ms/step - loss: 0.5684 - accuracy: 0.7792 - val_loss: 0.2595 - val_accuracy: 0.9661\n",
            "Epoch 49/1000\n",
            "36/50 [====================>.........] - ETA: 0s - loss: 0.5514 - accuracy: 0.7865\n",
            "Epoch 49: saving model to model/keypoint_classifier\\keypoint_classifier.hdf5\n",
            "50/50 [==============================] - 0s 4ms/step - loss: 0.5560 - accuracy: 0.7846 - val_loss: 0.2593 - val_accuracy: 0.9652\n",
            "Epoch 50/1000\n",
            "32/50 [==================>...........] - ETA: 0s - loss: 0.5520 - accuracy: 0.7898\n",
            "Epoch 50: saving model to model/keypoint_classifier\\keypoint_classifier.hdf5\n",
            "50/50 [==============================] - 0s 4ms/step - loss: 0.5496 - accuracy: 0.7895 - val_loss: 0.2564 - val_accuracy: 0.9633\n",
            "Epoch 51/1000\n",
            "31/50 [=================>............] - ETA: 0s - loss: 0.5451 - accuracy: 0.7931\n",
            "Epoch 51: saving model to model/keypoint_classifier\\keypoint_classifier.hdf5\n",
            "50/50 [==============================] - 0s 4ms/step - loss: 0.5518 - accuracy: 0.7900 - val_loss: 0.2456 - val_accuracy: 0.9661\n",
            "Epoch 52/1000\n",
            "33/50 [==================>...........] - ETA: 0s - loss: 0.5449 - accuracy: 0.7843\n",
            "Epoch 52: saving model to model/keypoint_classifier\\keypoint_classifier.hdf5\n",
            "50/50 [==============================] - 0s 4ms/step - loss: 0.5533 - accuracy: 0.7866 - val_loss: 0.2470 - val_accuracy: 0.9666\n",
            "Epoch 53/1000\n",
            "34/50 [===================>..........] - ETA: 0s - loss: 0.5383 - accuracy: 0.7983\n",
            "Epoch 53: saving model to model/keypoint_classifier\\keypoint_classifier.hdf5\n",
            "50/50 [==============================] - 0s 4ms/step - loss: 0.5421 - accuracy: 0.7946 - val_loss: 0.2413 - val_accuracy: 0.9671\n",
            "Epoch 54/1000\n",
            "35/50 [====================>.........] - ETA: 0s - loss: 0.5516 - accuracy: 0.7862\n",
            "Epoch 54: saving model to model/keypoint_classifier\\keypoint_classifier.hdf5\n",
            "50/50 [==============================] - 0s 4ms/step - loss: 0.5489 - accuracy: 0.7914 - val_loss: 0.2397 - val_accuracy: 0.9676\n",
            "Epoch 55/1000\n",
            "39/50 [======================>.......] - ETA: 0s - loss: 0.5336 - accuracy: 0.7963\n",
            "Epoch 55: saving model to model/keypoint_classifier\\keypoint_classifier.hdf5\n",
            "50/50 [==============================] - 0s 3ms/step - loss: 0.5347 - accuracy: 0.7963 - val_loss: 0.2352 - val_accuracy: 0.9666\n",
            "Epoch 56/1000\n",
            "36/50 [====================>.........] - ETA: 0s - loss: 0.5447 - accuracy: 0.7986\n",
            "Epoch 56: saving model to model/keypoint_classifier\\keypoint_classifier.hdf5\n",
            "50/50 [==============================] - 0s 3ms/step - loss: 0.5339 - accuracy: 0.8008 - val_loss: 0.2336 - val_accuracy: 0.9661\n",
            "Epoch 57/1000\n",
            "36/50 [====================>.........] - ETA: 0s - loss: 0.5215 - accuracy: 0.8075\n",
            "Epoch 57: saving model to model/keypoint_classifier\\keypoint_classifier.hdf5\n",
            "50/50 [==============================] - 0s 3ms/step - loss: 0.5289 - accuracy: 0.8029 - val_loss: 0.2210 - val_accuracy: 0.9704\n",
            "Epoch 58/1000\n",
            "28/50 [===============>..............] - ETA: 0s - loss: 0.5411 - accuracy: 0.7980\n",
            "Epoch 58: saving model to model/keypoint_classifier\\keypoint_classifier.hdf5\n",
            "50/50 [==============================] - 0s 4ms/step - loss: 0.5364 - accuracy: 0.8005 - val_loss: 0.2205 - val_accuracy: 0.9704\n",
            "Epoch 59/1000\n",
            "34/50 [===================>..........] - ETA: 0s - loss: 0.5084 - accuracy: 0.8182\n",
            "Epoch 59: saving model to model/keypoint_classifier\\keypoint_classifier.hdf5\n",
            "50/50 [==============================] - 0s 3ms/step - loss: 0.5222 - accuracy: 0.8110 - val_loss: 0.2222 - val_accuracy: 0.9714\n",
            "Epoch 60/1000\n",
            "34/50 [===================>..........] - ETA: 0s - loss: 0.5239 - accuracy: 0.7964\n",
            "Epoch 60: saving model to model/keypoint_classifier\\keypoint_classifier.hdf5\n",
            "50/50 [==============================] - 0s 4ms/step - loss: 0.5242 - accuracy: 0.7998 - val_loss: 0.2156 - val_accuracy: 0.9719\n",
            "Epoch 61/1000\n",
            "33/50 [==================>...........] - ETA: 0s - loss: 0.5084 - accuracy: 0.8168\n",
            "Epoch 61: saving model to model/keypoint_classifier\\keypoint_classifier.hdf5\n",
            "50/50 [==============================] - 0s 4ms/step - loss: 0.5083 - accuracy: 0.8164 - val_loss: 0.2164 - val_accuracy: 0.9704\n",
            "Epoch 62/1000\n",
            "35/50 [====================>.........] - ETA: 0s - loss: 0.5195 - accuracy: 0.8009\n",
            "Epoch 62: saving model to model/keypoint_classifier\\keypoint_classifier.hdf5\n",
            "50/50 [==============================] - 0s 4ms/step - loss: 0.5101 - accuracy: 0.8065 - val_loss: 0.2154 - val_accuracy: 0.9714\n",
            "Epoch 63/1000\n",
            "30/50 [=================>............] - ETA: 0s - loss: 0.5074 - accuracy: 0.8128\n",
            "Epoch 63: saving model to model/keypoint_classifier\\keypoint_classifier.hdf5\n",
            "50/50 [==============================] - 0s 4ms/step - loss: 0.5081 - accuracy: 0.8115 - val_loss: 0.2118 - val_accuracy: 0.9742\n",
            "Epoch 64/1000\n",
            "28/50 [===============>..............] - ETA: 0s - loss: 0.5239 - accuracy: 0.8008\n",
            "Epoch 64: saving model to model/keypoint_classifier\\keypoint_classifier.hdf5\n",
            "50/50 [==============================] - 0s 4ms/step - loss: 0.5232 - accuracy: 0.8037 - val_loss: 0.2069 - val_accuracy: 0.9757\n",
            "Epoch 65/1000\n",
            "33/50 [==================>...........] - ETA: 0s - loss: 0.4974 - accuracy: 0.8232\n",
            "Epoch 65: saving model to model/keypoint_classifier\\keypoint_classifier.hdf5\n",
            "50/50 [==============================] - 0s 4ms/step - loss: 0.4958 - accuracy: 0.8220 - val_loss: 0.2083 - val_accuracy: 0.9742\n",
            "Epoch 66/1000\n",
            "30/50 [=================>............] - ETA: 0s - loss: 0.5021 - accuracy: 0.8128\n",
            "Epoch 66: saving model to model/keypoint_classifier\\keypoint_classifier.hdf5\n",
            "50/50 [==============================] - 0s 4ms/step - loss: 0.4955 - accuracy: 0.8153 - val_loss: 0.2003 - val_accuracy: 0.9752\n",
            "Epoch 67/1000\n",
            "30/50 [=================>............] - ETA: 0s - loss: 0.4819 - accuracy: 0.8260\n",
            "Epoch 67: saving model to model/keypoint_classifier\\keypoint_classifier.hdf5\n",
            "50/50 [==============================] - 0s 4ms/step - loss: 0.4864 - accuracy: 0.8239 - val_loss: 0.2060 - val_accuracy: 0.9752\n",
            "Epoch 68/1000\n",
            "27/50 [===============>..............] - ETA: 0s - loss: 0.5153 - accuracy: 0.8030\n",
            "Epoch 68: saving model to model/keypoint_classifier\\keypoint_classifier.hdf5\n",
            "50/50 [==============================] - 0s 4ms/step - loss: 0.5142 - accuracy: 0.8051 - val_loss: 0.2035 - val_accuracy: 0.9757\n",
            "Epoch 69/1000\n",
            "39/50 [======================>.......] - ETA: 0s - loss: 0.5248 - accuracy: 0.8023\n",
            "Epoch 69: saving model to model/keypoint_classifier\\keypoint_classifier.hdf5\n",
            "50/50 [==============================] - 0s 3ms/step - loss: 0.5166 - accuracy: 0.8068 - val_loss: 0.2040 - val_accuracy: 0.9766\n",
            "Epoch 70/1000\n",
            "37/50 [=====================>........] - ETA: 0s - loss: 0.4909 - accuracy: 0.8250\n",
            "Epoch 70: saving model to model/keypoint_classifier\\keypoint_classifier.hdf5\n",
            "50/50 [==============================] - 0s 3ms/step - loss: 0.4944 - accuracy: 0.8228 - val_loss: 0.2009 - val_accuracy: 0.9761\n",
            "Epoch 71/1000\n",
            "28/50 [===============>..............] - ETA: 0s - loss: 0.4919 - accuracy: 0.8186\n",
            "Epoch 71: saving model to model/keypoint_classifier\\keypoint_classifier.hdf5\n",
            "50/50 [==============================] - 0s 4ms/step - loss: 0.5014 - accuracy: 0.8127 - val_loss: 0.2031 - val_accuracy: 0.9766\n",
            "Epoch 72/1000\n",
            "33/50 [==================>...........] - ETA: 0s - loss: 0.4893 - accuracy: 0.8220\n",
            "Epoch 72: saving model to model/keypoint_classifier\\keypoint_classifier.hdf5\n",
            "50/50 [==============================] - 0s 4ms/step - loss: 0.4882 - accuracy: 0.8202 - val_loss: 0.1915 - val_accuracy: 0.9766\n",
            "Epoch 73/1000\n",
            "35/50 [====================>.........] - ETA: 0s - loss: 0.4931 - accuracy: 0.8156\n",
            "Epoch 73: saving model to model/keypoint_classifier\\keypoint_classifier.hdf5\n",
            "50/50 [==============================] - 0s 4ms/step - loss: 0.4884 - accuracy: 0.8170 - val_loss: 0.1891 - val_accuracy: 0.9781\n",
            "Epoch 74/1000\n",
            "27/50 [===============>..............] - ETA: 0s - loss: 0.4814 - accuracy: 0.8299\n",
            "Epoch 74: saving model to model/keypoint_classifier\\keypoint_classifier.hdf5\n",
            "50/50 [==============================] - 0s 3ms/step - loss: 0.4850 - accuracy: 0.8272 - val_loss: 0.1823 - val_accuracy: 0.9790\n",
            "Epoch 75/1000\n",
            "33/50 [==================>...........] - ETA: 0s - loss: 0.4647 - accuracy: 0.8303\n",
            "Epoch 75: saving model to model/keypoint_classifier\\keypoint_classifier.hdf5\n",
            "50/50 [==============================] - 0s 4ms/step - loss: 0.4717 - accuracy: 0.8291 - val_loss: 0.1815 - val_accuracy: 0.9800\n",
            "Epoch 76/1000\n",
            "35/50 [====================>.........] - ETA: 0s - loss: 0.4904 - accuracy: 0.8174\n",
            "Epoch 76: saving model to model/keypoint_classifier\\keypoint_classifier.hdf5\n",
            "50/50 [==============================] - 0s 4ms/step - loss: 0.4899 - accuracy: 0.8183 - val_loss: 0.1868 - val_accuracy: 0.9790\n",
            "Epoch 77/1000\n",
            "31/50 [=================>............] - ETA: 0s - loss: 0.4661 - accuracy: 0.8327\n",
            "Epoch 77: saving model to model/keypoint_classifier\\keypoint_classifier.hdf5\n",
            "50/50 [==============================] - 0s 4ms/step - loss: 0.4845 - accuracy: 0.8208 - val_loss: 0.1886 - val_accuracy: 0.9781\n",
            "Epoch 78/1000\n",
            "31/50 [=================>............] - ETA: 0s - loss: 0.5146 - accuracy: 0.8095\n",
            "Epoch 78: saving model to model/keypoint_classifier\\keypoint_classifier.hdf5\n",
            "50/50 [==============================] - 0s 4ms/step - loss: 0.4953 - accuracy: 0.8194 - val_loss: 0.1880 - val_accuracy: 0.9761\n",
            "Epoch 79/1000\n",
            "36/50 [====================>.........] - ETA: 0s - loss: 0.4939 - accuracy: 0.8155\n",
            "Epoch 79: saving model to model/keypoint_classifier\\keypoint_classifier.hdf5\n",
            "50/50 [==============================] - 0s 4ms/step - loss: 0.4906 - accuracy: 0.8175 - val_loss: 0.1855 - val_accuracy: 0.9800\n",
            "Epoch 80/1000\n",
            "35/50 [====================>.........] - ETA: 0s - loss: 0.4367 - accuracy: 0.8426\n",
            "Epoch 80: saving model to model/keypoint_classifier\\keypoint_classifier.hdf5\n",
            "50/50 [==============================] - 0s 4ms/step - loss: 0.4458 - accuracy: 0.8383 - val_loss: 0.1770 - val_accuracy: 0.9771\n",
            "Epoch 81/1000\n",
            "34/50 [===================>..........] - ETA: 0s - loss: 0.4883 - accuracy: 0.8231\n",
            "Epoch 81: saving model to model/keypoint_classifier\\keypoint_classifier.hdf5\n",
            "50/50 [==============================] - 0s 3ms/step - loss: 0.4875 - accuracy: 0.8253 - val_loss: 0.1775 - val_accuracy: 0.9795\n",
            "Epoch 82/1000\n",
            "37/50 [=====================>........] - ETA: 0s - loss: 0.4814 - accuracy: 0.8277\n",
            "Epoch 82: saving model to model/keypoint_classifier\\keypoint_classifier.hdf5\n",
            "50/50 [==============================] - 0s 4ms/step - loss: 0.4776 - accuracy: 0.8240 - val_loss: 0.1807 - val_accuracy: 0.9785\n",
            "Epoch 83/1000\n",
            "33/50 [==================>...........] - ETA: 0s - loss: 0.4950 - accuracy: 0.8267\n",
            "Epoch 83: saving model to model/keypoint_classifier\\keypoint_classifier.hdf5\n",
            "50/50 [==============================] - 0s 3ms/step - loss: 0.4938 - accuracy: 0.8261 - val_loss: 0.1828 - val_accuracy: 0.9804\n",
            "Epoch 84/1000\n",
            "35/50 [====================>.........] - ETA: 0s - loss: 0.4797 - accuracy: 0.8212\n",
            "Epoch 84: saving model to model/keypoint_classifier\\keypoint_classifier.hdf5\n",
            "50/50 [==============================] - 0s 4ms/step - loss: 0.4814 - accuracy: 0.8202 - val_loss: 0.1774 - val_accuracy: 0.9800\n",
            "Epoch 85/1000\n",
            "30/50 [=================>............] - ETA: 0s - loss: 0.4857 - accuracy: 0.8211\n",
            "Epoch 85: saving model to model/keypoint_classifier\\keypoint_classifier.hdf5\n",
            "50/50 [==============================] - 0s 3ms/step - loss: 0.4869 - accuracy: 0.8207 - val_loss: 0.1809 - val_accuracy: 0.9814\n",
            "Epoch 86/1000\n",
            "48/50 [===========================>..] - ETA: 0s - loss: 0.4765 - accuracy: 0.8267\n",
            "Epoch 86: saving model to model/keypoint_classifier\\keypoint_classifier.hdf5\n",
            "50/50 [==============================] - 0s 4ms/step - loss: 0.4779 - accuracy: 0.8255 - val_loss: 0.1821 - val_accuracy: 0.9790\n",
            "Epoch 87/1000\n",
            "32/50 [==================>...........] - ETA: 0s - loss: 0.4730 - accuracy: 0.8284\n",
            "Epoch 87: saving model to model/keypoint_classifier\\keypoint_classifier.hdf5\n",
            "50/50 [==============================] - 0s 4ms/step - loss: 0.4755 - accuracy: 0.8256 - val_loss: 0.1707 - val_accuracy: 0.9790\n",
            "Epoch 88/1000\n",
            "29/50 [================>.............] - ETA: 0s - loss: 0.4649 - accuracy: 0.8279\n",
            "Epoch 88: saving model to model/keypoint_classifier\\keypoint_classifier.hdf5\n",
            "50/50 [==============================] - 0s 3ms/step - loss: 0.4693 - accuracy: 0.8296 - val_loss: 0.1728 - val_accuracy: 0.9800\n",
            "Epoch 89/1000\n",
            "29/50 [================>.............] - ETA: 0s - loss: 0.4615 - accuracy: 0.8346\n",
            "Epoch 89: saving model to model/keypoint_classifier\\keypoint_classifier.hdf5\n",
            "50/50 [==============================] - 0s 4ms/step - loss: 0.4605 - accuracy: 0.8356 - val_loss: 0.1680 - val_accuracy: 0.9790\n",
            "Epoch 90/1000\n",
            "34/50 [===================>..........] - ETA: 0s - loss: 0.4510 - accuracy: 0.8359\n",
            "Epoch 90: saving model to model/keypoint_classifier\\keypoint_classifier.hdf5\n",
            "50/50 [==============================] - 0s 3ms/step - loss: 0.4553 - accuracy: 0.8333 - val_loss: 0.1656 - val_accuracy: 0.9823\n",
            "Epoch 91/1000\n",
            "32/50 [==================>...........] - ETA: 0s - loss: 0.4725 - accuracy: 0.8240\n",
            "Epoch 91: saving model to model/keypoint_classifier\\keypoint_classifier.hdf5\n",
            "50/50 [==============================] - 0s 3ms/step - loss: 0.4754 - accuracy: 0.8247 - val_loss: 0.1694 - val_accuracy: 0.9843\n",
            "Epoch 92/1000\n",
            "38/50 [=====================>........] - ETA: 0s - loss: 0.4674 - accuracy: 0.8244\n",
            "Epoch 92: saving model to model/keypoint_classifier\\keypoint_classifier.hdf5\n",
            "50/50 [==============================] - 0s 3ms/step - loss: 0.4690 - accuracy: 0.8250 - val_loss: 0.1748 - val_accuracy: 0.9814\n",
            "Epoch 93/1000\n",
            "35/50 [====================>.........] - ETA: 0s - loss: 0.4796 - accuracy: 0.8263\n",
            "Epoch 93: saving model to model/keypoint_classifier\\keypoint_classifier.hdf5\n",
            "50/50 [==============================] - 0s 3ms/step - loss: 0.4802 - accuracy: 0.8264 - val_loss: 0.1676 - val_accuracy: 0.9809\n",
            "Epoch 94/1000\n",
            "31/50 [=================>............] - ETA: 0s - loss: 0.4743 - accuracy: 0.8281\n",
            "Epoch 94: saving model to model/keypoint_classifier\\keypoint_classifier.hdf5\n",
            "50/50 [==============================] - 0s 4ms/step - loss: 0.4719 - accuracy: 0.8312 - val_loss: 0.1709 - val_accuracy: 0.9828\n",
            "Epoch 95/1000\n",
            "34/50 [===================>..........] - ETA: 0s - loss: 0.4683 - accuracy: 0.8300\n",
            "Epoch 95: saving model to model/keypoint_classifier\\keypoint_classifier.hdf5\n",
            "50/50 [==============================] - 0s 3ms/step - loss: 0.4743 - accuracy: 0.8278 - val_loss: 0.1719 - val_accuracy: 0.9804\n",
            "Epoch 96/1000\n",
            "37/50 [=====================>........] - ETA: 0s - loss: 0.4662 - accuracy: 0.8323\n",
            "Epoch 96: saving model to model/keypoint_classifier\\keypoint_classifier.hdf5\n",
            "50/50 [==============================] - 0s 4ms/step - loss: 0.4675 - accuracy: 0.8294 - val_loss: 0.1628 - val_accuracy: 0.9828\n",
            "Epoch 97/1000\n",
            "28/50 [===============>..............] - ETA: 0s - loss: 0.4736 - accuracy: 0.8290\n",
            "Epoch 97: saving model to model/keypoint_classifier\\keypoint_classifier.hdf5\n",
            "50/50 [==============================] - 0s 4ms/step - loss: 0.4734 - accuracy: 0.8280 - val_loss: 0.1736 - val_accuracy: 0.9843\n",
            "Epoch 98/1000\n",
            "30/50 [=================>............] - ETA: 0s - loss: 0.4907 - accuracy: 0.8154\n",
            "Epoch 98: saving model to model/keypoint_classifier\\keypoint_classifier.hdf5\n",
            "50/50 [==============================] - 0s 4ms/step - loss: 0.4772 - accuracy: 0.8258 - val_loss: 0.1740 - val_accuracy: 0.9843\n",
            "Epoch 99/1000\n",
            "32/50 [==================>...........] - ETA: 0s - loss: 0.4786 - accuracy: 0.8303\n",
            "Epoch 99: saving model to model/keypoint_classifier\\keypoint_classifier.hdf5\n",
            "50/50 [==============================] - 0s 4ms/step - loss: 0.4877 - accuracy: 0.8282 - val_loss: 0.1745 - val_accuracy: 0.9838\n",
            "Epoch 100/1000\n",
            "34/50 [===================>..........] - ETA: 0s - loss: 0.4609 - accuracy: 0.8382\n",
            "Epoch 100: saving model to model/keypoint_classifier\\keypoint_classifier.hdf5\n",
            "50/50 [==============================] - 0s 4ms/step - loss: 0.4605 - accuracy: 0.8372 - val_loss: 0.1640 - val_accuracy: 0.9828\n",
            "Epoch 101/1000\n",
            "31/50 [=================>............] - ETA: 0s - loss: 0.4825 - accuracy: 0.8241\n",
            "Epoch 101: saving model to model/keypoint_classifier\\keypoint_classifier.hdf5\n",
            "50/50 [==============================] - 0s 3ms/step - loss: 0.4658 - accuracy: 0.8302 - val_loss: 0.1677 - val_accuracy: 0.9833\n",
            "Epoch 102/1000\n",
            "29/50 [================>.............] - ETA: 0s - loss: 0.4564 - accuracy: 0.8354\n",
            "Epoch 102: saving model to model/keypoint_classifier\\keypoint_classifier.hdf5\n",
            "50/50 [==============================] - 0s 4ms/step - loss: 0.4544 - accuracy: 0.8366 - val_loss: 0.1624 - val_accuracy: 0.9838\n",
            "Epoch 103/1000\n",
            "27/50 [===============>..............] - ETA: 0s - loss: 0.4530 - accuracy: 0.8333\n",
            "Epoch 103: saving model to model/keypoint_classifier\\keypoint_classifier.hdf5\n",
            "50/50 [==============================] - 0s 4ms/step - loss: 0.4520 - accuracy: 0.8369 - val_loss: 0.1664 - val_accuracy: 0.9838\n",
            "Epoch 104/1000\n",
            "34/50 [===================>..........] - ETA: 0s - loss: 0.4483 - accuracy: 0.8355\n",
            "Epoch 104: saving model to model/keypoint_classifier\\keypoint_classifier.hdf5\n",
            "50/50 [==============================] - 0s 4ms/step - loss: 0.4462 - accuracy: 0.8348 - val_loss: 0.1598 - val_accuracy: 0.9852\n",
            "Epoch 105/1000\n",
            "33/50 [==================>...........] - ETA: 0s - loss: 0.4674 - accuracy: 0.8281\n",
            "Epoch 105: saving model to model/keypoint_classifier\\keypoint_classifier.hdf5\n",
            "50/50 [==============================] - 0s 4ms/step - loss: 0.4661 - accuracy: 0.8277 - val_loss: 0.1594 - val_accuracy: 0.9843\n",
            "Epoch 106/1000\n",
            "34/50 [===================>..........] - ETA: 0s - loss: 0.4714 - accuracy: 0.8247\n",
            "Epoch 106: saving model to model/keypoint_classifier\\keypoint_classifier.hdf5\n",
            "50/50 [==============================] - 0s 4ms/step - loss: 0.4658 - accuracy: 0.8266 - val_loss: 0.1639 - val_accuracy: 0.9847\n",
            "Epoch 107/1000\n",
            "30/50 [=================>............] - ETA: 0s - loss: 0.4626 - accuracy: 0.8333\n",
            "Epoch 107: saving model to model/keypoint_classifier\\keypoint_classifier.hdf5\n",
            "50/50 [==============================] - 0s 4ms/step - loss: 0.4709 - accuracy: 0.8274 - val_loss: 0.1646 - val_accuracy: 0.9847\n",
            "Epoch 108/1000\n",
            "33/50 [==================>...........] - ETA: 0s - loss: 0.4671 - accuracy: 0.8269\n",
            "Epoch 108: saving model to model/keypoint_classifier\\keypoint_classifier.hdf5\n",
            "50/50 [==============================] - 0s 3ms/step - loss: 0.4591 - accuracy: 0.8312 - val_loss: 0.1652 - val_accuracy: 0.9843\n",
            "Epoch 109/1000\n",
            "21/50 [===========>..................] - ETA: 0s - loss: 0.4870 - accuracy: 0.8173\n",
            "Epoch 109: saving model to model/keypoint_classifier\\keypoint_classifier.hdf5\n",
            "50/50 [==============================] - 0s 4ms/step - loss: 0.4629 - accuracy: 0.8296 - val_loss: 0.1594 - val_accuracy: 0.9828\n",
            "Epoch 110/1000\n",
            "29/50 [================>.............] - ETA: 0s - loss: 0.4595 - accuracy: 0.8305\n",
            "Epoch 110: saving model to model/keypoint_classifier\\keypoint_classifier.hdf5\n",
            "50/50 [==============================] - 0s 3ms/step - loss: 0.4565 - accuracy: 0.8328 - val_loss: 0.1621 - val_accuracy: 0.9843\n",
            "Epoch 111/1000\n",
            "29/50 [================>.............] - ETA: 0s - loss: 0.4637 - accuracy: 0.8311\n",
            "Epoch 111: saving model to model/keypoint_classifier\\keypoint_classifier.hdf5\n",
            "50/50 [==============================] - 0s 4ms/step - loss: 0.4655 - accuracy: 0.8299 - val_loss: 0.1606 - val_accuracy: 0.9847\n",
            "Epoch 112/1000\n",
            "26/50 [==============>...............] - ETA: 0s - loss: 0.4585 - accuracy: 0.8251\n",
            "Epoch 112: saving model to model/keypoint_classifier\\keypoint_classifier.hdf5\n",
            "50/50 [==============================] - 0s 4ms/step - loss: 0.4447 - accuracy: 0.8390 - val_loss: 0.1564 - val_accuracy: 0.9838\n",
            "Epoch 113/1000\n",
            "32/50 [==================>...........] - ETA: 0s - loss: 0.4646 - accuracy: 0.8330\n",
            "Epoch 113: saving model to model/keypoint_classifier\\keypoint_classifier.hdf5\n",
            "50/50 [==============================] - 0s 3ms/step - loss: 0.4628 - accuracy: 0.8329 - val_loss: 0.1576 - val_accuracy: 0.9843\n",
            "Epoch 114/1000\n",
            "31/50 [=================>............] - ETA: 0s - loss: 0.4605 - accuracy: 0.8319\n",
            "Epoch 114: saving model to model/keypoint_classifier\\keypoint_classifier.hdf5\n",
            "50/50 [==============================] - 0s 3ms/step - loss: 0.4677 - accuracy: 0.8296 - val_loss: 0.1698 - val_accuracy: 0.9843\n",
            "Epoch 115/1000\n",
            "32/50 [==================>...........] - ETA: 0s - loss: 0.4601 - accuracy: 0.8301\n",
            "Epoch 115: saving model to model/keypoint_classifier\\keypoint_classifier.hdf5\n",
            "50/50 [==============================] - 0s 4ms/step - loss: 0.4496 - accuracy: 0.8356 - val_loss: 0.1609 - val_accuracy: 0.9847\n",
            "Epoch 116/1000\n",
            "34/50 [===================>..........] - ETA: 0s - loss: 0.4573 - accuracy: 0.8270\n",
            "Epoch 116: saving model to model/keypoint_classifier\\keypoint_classifier.hdf5\n",
            "50/50 [==============================] - 0s 3ms/step - loss: 0.4488 - accuracy: 0.8339 - val_loss: 0.1574 - val_accuracy: 0.9838\n",
            "Epoch 117/1000\n",
            "26/50 [==============>...............] - ETA: 0s - loss: 0.4724 - accuracy: 0.8284\n",
            "Epoch 117: saving model to model/keypoint_classifier\\keypoint_classifier.hdf5\n",
            "50/50 [==============================] - 0s 3ms/step - loss: 0.4616 - accuracy: 0.8323 - val_loss: 0.1598 - val_accuracy: 0.9847\n",
            "Epoch 118/1000\n",
            "28/50 [===============>..............] - ETA: 0s - loss: 0.4440 - accuracy: 0.8426\n",
            "Epoch 118: saving model to model/keypoint_classifier\\keypoint_classifier.hdf5\n",
            "50/50 [==============================] - 0s 4ms/step - loss: 0.4403 - accuracy: 0.8428 - val_loss: 0.1590 - val_accuracy: 0.9847\n",
            "Epoch 119/1000\n",
            "32/50 [==================>...........] - ETA: 0s - loss: 0.4545 - accuracy: 0.8340\n",
            "Epoch 119: saving model to model/keypoint_classifier\\keypoint_classifier.hdf5\n",
            "50/50 [==============================] - 0s 4ms/step - loss: 0.4422 - accuracy: 0.8382 - val_loss: 0.1574 - val_accuracy: 0.9847\n",
            "Epoch 120/1000\n",
            "33/50 [==================>...........] - ETA: 0s - loss: 0.4351 - accuracy: 0.8440\n",
            "Epoch 120: saving model to model/keypoint_classifier\\keypoint_classifier.hdf5\n",
            "50/50 [==============================] - 0s 4ms/step - loss: 0.4531 - accuracy: 0.8385 - val_loss: 0.1598 - val_accuracy: 0.9847\n",
            "Epoch 121/1000\n",
            "32/50 [==================>...........] - ETA: 0s - loss: 0.4426 - accuracy: 0.8418\n",
            "Epoch 121: saving model to model/keypoint_classifier\\keypoint_classifier.hdf5\n",
            "50/50 [==============================] - 0s 4ms/step - loss: 0.4549 - accuracy: 0.8361 - val_loss: 0.1587 - val_accuracy: 0.9847\n",
            "Epoch 122/1000\n",
            "30/50 [=================>............] - ETA: 0s - loss: 0.4312 - accuracy: 0.8432\n",
            "Epoch 122: saving model to model/keypoint_classifier\\keypoint_classifier.hdf5\n",
            "50/50 [==============================] - 0s 3ms/step - loss: 0.4433 - accuracy: 0.8403 - val_loss: 0.1569 - val_accuracy: 0.9838\n",
            "Epoch 123/1000\n",
            "28/50 [===============>..............] - ETA: 0s - loss: 0.4564 - accuracy: 0.8298\n",
            "Epoch 123: saving model to model/keypoint_classifier\\keypoint_classifier.hdf5\n",
            "50/50 [==============================] - 0s 4ms/step - loss: 0.4578 - accuracy: 0.8305 - val_loss: 0.1632 - val_accuracy: 0.9843\n",
            "Epoch 124/1000\n",
            "30/50 [=================>............] - ETA: 0s - loss: 0.4579 - accuracy: 0.8359\n",
            "Epoch 124: saving model to model/keypoint_classifier\\keypoint_classifier.hdf5\n",
            "50/50 [==============================] - 0s 3ms/step - loss: 0.4516 - accuracy: 0.8379 - val_loss: 0.1592 - val_accuracy: 0.9847\n",
            "Epoch 125/1000\n",
            "33/50 [==================>...........] - ETA: 0s - loss: 0.4473 - accuracy: 0.8362\n",
            "Epoch 125: saving model to model/keypoint_classifier\\keypoint_classifier.hdf5\n",
            "50/50 [==============================] - 0s 4ms/step - loss: 0.4488 - accuracy: 0.8353 - val_loss: 0.1563 - val_accuracy: 0.9847\n",
            "Epoch 126/1000\n",
            "35/50 [====================>.........] - ETA: 0s - loss: 0.4496 - accuracy: 0.8364\n",
            "Epoch 126: saving model to model/keypoint_classifier\\keypoint_classifier.hdf5\n",
            "50/50 [==============================] - 0s 4ms/step - loss: 0.4454 - accuracy: 0.8404 - val_loss: 0.1525 - val_accuracy: 0.9843\n",
            "Epoch 127/1000\n",
            "31/50 [=================>............] - ETA: 0s - loss: 0.4450 - accuracy: 0.8374\n",
            "Epoch 127: saving model to model/keypoint_classifier\\keypoint_classifier.hdf5\n",
            "50/50 [==============================] - 0s 4ms/step - loss: 0.4427 - accuracy: 0.8407 - val_loss: 0.1558 - val_accuracy: 0.9847\n",
            "Epoch 128/1000\n",
            "31/50 [=================>............] - ETA: 0s - loss: 0.4649 - accuracy: 0.8311\n",
            "Epoch 128: saving model to model/keypoint_classifier\\keypoint_classifier.hdf5\n",
            "50/50 [==============================] - 0s 4ms/step - loss: 0.4527 - accuracy: 0.8363 - val_loss: 0.1532 - val_accuracy: 0.9852\n",
            "Epoch 129/1000\n",
            "26/50 [==============>...............] - ETA: 0s - loss: 0.4435 - accuracy: 0.8447\n",
            "Epoch 129: saving model to model/keypoint_classifier\\keypoint_classifier.hdf5\n",
            "50/50 [==============================] - 0s 4ms/step - loss: 0.4417 - accuracy: 0.8404 - val_loss: 0.1548 - val_accuracy: 0.9847\n",
            "Epoch 130/1000\n",
            "35/50 [====================>.........] - ETA: 0s - loss: 0.4400 - accuracy: 0.8406\n",
            "Epoch 130: saving model to model/keypoint_classifier\\keypoint_classifier.hdf5\n",
            "50/50 [==============================] - 0s 4ms/step - loss: 0.4399 - accuracy: 0.8401 - val_loss: 0.1542 - val_accuracy: 0.9847\n",
            "Epoch 131/1000\n",
            "35/50 [====================>.........] - ETA: 0s - loss: 0.4291 - accuracy: 0.8469\n",
            "Epoch 131: saving model to model/keypoint_classifier\\keypoint_classifier.hdf5\n",
            "50/50 [==============================] - 0s 4ms/step - loss: 0.4386 - accuracy: 0.8415 - val_loss: 0.1569 - val_accuracy: 0.9838\n",
            "Epoch 132/1000\n",
            "34/50 [===================>..........] - ETA: 0s - loss: 0.4532 - accuracy: 0.8348\n",
            "Epoch 132: saving model to model/keypoint_classifier\\keypoint_classifier.hdf5\n",
            "50/50 [==============================] - 0s 3ms/step - loss: 0.4490 - accuracy: 0.8380 - val_loss: 0.1530 - val_accuracy: 0.9843\n",
            "Epoch 133/1000\n",
            "33/50 [==================>...........] - ETA: 0s - loss: 0.4310 - accuracy: 0.8464\n",
            "Epoch 133: saving model to model/keypoint_classifier\\keypoint_classifier.hdf5\n",
            "50/50 [==============================] - 0s 4ms/step - loss: 0.4295 - accuracy: 0.8461 - val_loss: 0.1506 - val_accuracy: 0.9847\n",
            "Epoch 134/1000\n",
            "32/50 [==================>...........] - ETA: 0s - loss: 0.4543 - accuracy: 0.8328\n",
            "Epoch 134: saving model to model/keypoint_classifier\\keypoint_classifier.hdf5\n",
            "50/50 [==============================] - 0s 3ms/step - loss: 0.4461 - accuracy: 0.8379 - val_loss: 0.1518 - val_accuracy: 0.9852\n",
            "Epoch 135/1000\n",
            "34/50 [===================>..........] - ETA: 0s - loss: 0.4371 - accuracy: 0.8428\n",
            "Epoch 135: saving model to model/keypoint_classifier\\keypoint_classifier.hdf5\n",
            "50/50 [==============================] - 0s 4ms/step - loss: 0.4424 - accuracy: 0.8409 - val_loss: 0.1535 - val_accuracy: 0.9847\n",
            "Epoch 136/1000\n",
            "32/50 [==================>...........] - ETA: 0s - loss: 0.4624 - accuracy: 0.8298\n",
            "Epoch 136: saving model to model/keypoint_classifier\\keypoint_classifier.hdf5\n",
            "50/50 [==============================] - 0s 4ms/step - loss: 0.4510 - accuracy: 0.8356 - val_loss: 0.1522 - val_accuracy: 0.9847\n",
            "Epoch 137/1000\n",
            "33/50 [==================>...........] - ETA: 0s - loss: 0.4569 - accuracy: 0.8324\n",
            "Epoch 137: saving model to model/keypoint_classifier\\keypoint_classifier.hdf5\n",
            "50/50 [==============================] - 0s 4ms/step - loss: 0.4542 - accuracy: 0.8342 - val_loss: 0.1506 - val_accuracy: 0.9857\n",
            "Epoch 138/1000\n",
            "38/50 [=====================>........] - ETA: 0s - loss: 0.4551 - accuracy: 0.8409\n",
            "Epoch 138: saving model to model/keypoint_classifier\\keypoint_classifier.hdf5\n",
            "50/50 [==============================] - 0s 3ms/step - loss: 0.4501 - accuracy: 0.8399 - val_loss: 0.1500 - val_accuracy: 0.9847\n",
            "Epoch 139/1000\n",
            "32/50 [==================>...........] - ETA: 0s - loss: 0.4576 - accuracy: 0.8328\n",
            "Epoch 139: saving model to model/keypoint_classifier\\keypoint_classifier.hdf5\n",
            "50/50 [==============================] - 0s 4ms/step - loss: 0.4457 - accuracy: 0.8368 - val_loss: 0.1527 - val_accuracy: 0.9847\n",
            "Epoch 140/1000\n",
            "29/50 [================>.............] - ETA: 0s - loss: 0.4305 - accuracy: 0.8413\n",
            "Epoch 140: saving model to model/keypoint_classifier\\keypoint_classifier.hdf5\n",
            "50/50 [==============================] - 0s 4ms/step - loss: 0.4378 - accuracy: 0.8390 - val_loss: 0.1487 - val_accuracy: 0.9843\n",
            "Epoch 141/1000\n",
            "29/50 [================>.............] - ETA: 0s - loss: 0.4502 - accuracy: 0.8346\n",
            "Epoch 141: saving model to model/keypoint_classifier\\keypoint_classifier.hdf5\n",
            "50/50 [==============================] - 0s 4ms/step - loss: 0.4413 - accuracy: 0.8398 - val_loss: 0.1507 - val_accuracy: 0.9847\n",
            "Epoch 142/1000\n",
            "32/50 [==================>...........] - ETA: 0s - loss: 0.4328 - accuracy: 0.8467\n",
            "Epoch 142: saving model to model/keypoint_classifier\\keypoint_classifier.hdf5\n",
            "50/50 [==============================] - 0s 4ms/step - loss: 0.4246 - accuracy: 0.8474 - val_loss: 0.1508 - val_accuracy: 0.9847\n",
            "Epoch 143/1000\n",
            "30/50 [=================>............] - ETA: 0s - loss: 0.4239 - accuracy: 0.8461\n",
            "Epoch 143: saving model to model/keypoint_classifier\\keypoint_classifier.hdf5\n",
            "50/50 [==============================] - 0s 4ms/step - loss: 0.4403 - accuracy: 0.8412 - val_loss: 0.1515 - val_accuracy: 0.9843\n",
            "Epoch 144/1000\n",
            "24/50 [=============>................] - ETA: 0s - loss: 0.4184 - accuracy: 0.8548\n",
            "Epoch 144: saving model to model/keypoint_classifier\\keypoint_classifier.hdf5\n",
            "50/50 [==============================] - 0s 4ms/step - loss: 0.4305 - accuracy: 0.8492 - val_loss: 0.1478 - val_accuracy: 0.9847\n",
            "Epoch 145/1000\n",
            "29/50 [================>.............] - ETA: 0s - loss: 0.4410 - accuracy: 0.8397\n",
            "Epoch 145: saving model to model/keypoint_classifier\\keypoint_classifier.hdf5\n",
            "50/50 [==============================] - 0s 3ms/step - loss: 0.4417 - accuracy: 0.8407 - val_loss: 0.1500 - val_accuracy: 0.9838\n",
            "Epoch 146/1000\n",
            "29/50 [================>.............] - ETA: 0s - loss: 0.4164 - accuracy: 0.8497\n",
            "Epoch 146: saving model to model/keypoint_classifier\\keypoint_classifier.hdf5\n",
            "50/50 [==============================] - 0s 4ms/step - loss: 0.4263 - accuracy: 0.8488 - val_loss: 0.1488 - val_accuracy: 0.9852\n",
            "Epoch 147/1000\n",
            "28/50 [===============>..............] - ETA: 0s - loss: 0.4437 - accuracy: 0.8443\n",
            "Epoch 147: saving model to model/keypoint_classifier\\keypoint_classifier.hdf5\n",
            "50/50 [==============================] - 0s 3ms/step - loss: 0.4421 - accuracy: 0.8417 - val_loss: 0.1512 - val_accuracy: 0.9843\n",
            "Epoch 148/1000\n",
            "28/50 [===============>..............] - ETA: 0s - loss: 0.4288 - accuracy: 0.8521\n",
            "Epoch 148: saving model to model/keypoint_classifier\\keypoint_classifier.hdf5\n",
            "50/50 [==============================] - 0s 4ms/step - loss: 0.4241 - accuracy: 0.8493 - val_loss: 0.1502 - val_accuracy: 0.9852\n",
            "Epoch 149/1000\n",
            "30/50 [=================>............] - ETA: 0s - loss: 0.4323 - accuracy: 0.8385\n",
            "Epoch 149: saving model to model/keypoint_classifier\\keypoint_classifier.hdf5\n",
            "50/50 [==============================] - 0s 4ms/step - loss: 0.4325 - accuracy: 0.8414 - val_loss: 0.1426 - val_accuracy: 0.9847\n",
            "Epoch 150/1000\n",
            "31/50 [=================>............] - ETA: 0s - loss: 0.4343 - accuracy: 0.8468\n",
            "Epoch 150: saving model to model/keypoint_classifier\\keypoint_classifier.hdf5\n",
            "50/50 [==============================] - 0s 4ms/step - loss: 0.4364 - accuracy: 0.8412 - val_loss: 0.1531 - val_accuracy: 0.9852\n",
            "Epoch 151/1000\n",
            "26/50 [==============>...............] - ETA: 0s - loss: 0.4354 - accuracy: 0.8410\n",
            "Epoch 151: saving model to model/keypoint_classifier\\keypoint_classifier.hdf5\n",
            "50/50 [==============================] - 0s 3ms/step - loss: 0.4321 - accuracy: 0.8396 - val_loss: 0.1440 - val_accuracy: 0.9838\n",
            "Epoch 152/1000\n",
            "22/50 [============>.................] - ETA: 0s - loss: 0.4246 - accuracy: 0.8548\n",
            "Epoch 152: saving model to model/keypoint_classifier\\keypoint_classifier.hdf5\n",
            "50/50 [==============================] - 0s 4ms/step - loss: 0.4173 - accuracy: 0.8552 - val_loss: 0.1560 - val_accuracy: 0.9847\n",
            "Epoch 153/1000\n",
            "32/50 [==================>...........] - ETA: 0s - loss: 0.4471 - accuracy: 0.8374\n",
            "Epoch 153: saving model to model/keypoint_classifier\\keypoint_classifier.hdf5\n",
            "50/50 [==============================] - 0s 4ms/step - loss: 0.4418 - accuracy: 0.8388 - val_loss: 0.1490 - val_accuracy: 0.9843\n",
            "Epoch 154/1000\n",
            "26/50 [==============>...............] - ETA: 0s - loss: 0.4267 - accuracy: 0.8477\n",
            "Epoch 154: saving model to model/keypoint_classifier\\keypoint_classifier.hdf5\n",
            "50/50 [==============================] - 0s 4ms/step - loss: 0.4291 - accuracy: 0.8465 - val_loss: 0.1507 - val_accuracy: 0.9857\n",
            "Epoch 155/1000\n",
            "33/50 [==================>...........] - ETA: 0s - loss: 0.4228 - accuracy: 0.8480\n",
            "Epoch 155: saving model to model/keypoint_classifier\\keypoint_classifier.hdf5\n",
            "50/50 [==============================] - 0s 4ms/step - loss: 0.4396 - accuracy: 0.8431 - val_loss: 0.1440 - val_accuracy: 0.9847\n",
            "Epoch 156/1000\n",
            "32/50 [==================>...........] - ETA: 0s - loss: 0.4110 - accuracy: 0.8521\n",
            "Epoch 156: saving model to model/keypoint_classifier\\keypoint_classifier.hdf5\n",
            "50/50 [==============================] - 0s 4ms/step - loss: 0.4208 - accuracy: 0.8501 - val_loss: 0.1450 - val_accuracy: 0.9852\n",
            "Epoch 157/1000\n",
            "29/50 [================>.............] - ETA: 0s - loss: 0.4258 - accuracy: 0.8486\n",
            "Epoch 157: saving model to model/keypoint_classifier\\keypoint_classifier.hdf5\n",
            "50/50 [==============================] - 0s 4ms/step - loss: 0.4294 - accuracy: 0.8466 - val_loss: 0.1506 - val_accuracy: 0.9843\n",
            "Epoch 158/1000\n",
            "31/50 [=================>............] - ETA: 0s - loss: 0.4337 - accuracy: 0.8387\n",
            "Epoch 158: saving model to model/keypoint_classifier\\keypoint_classifier.hdf5\n",
            "50/50 [==============================] - 0s 4ms/step - loss: 0.4395 - accuracy: 0.8372 - val_loss: 0.1486 - val_accuracy: 0.9847\n",
            "Epoch 159/1000\n",
            "35/50 [====================>.........] - ETA: 0s - loss: 0.4288 - accuracy: 0.8473\n",
            "Epoch 159: saving model to model/keypoint_classifier\\keypoint_classifier.hdf5\n",
            "50/50 [==============================] - 0s 4ms/step - loss: 0.4338 - accuracy: 0.8442 - val_loss: 0.1465 - val_accuracy: 0.9847\n",
            "Epoch 160/1000\n",
            "31/50 [=================>............] - ETA: 0s - loss: 0.4235 - accuracy: 0.8526\n",
            "Epoch 160: saving model to model/keypoint_classifier\\keypoint_classifier.hdf5\n",
            "50/50 [==============================] - 0s 4ms/step - loss: 0.4349 - accuracy: 0.8460 - val_loss: 0.1431 - val_accuracy: 0.9847\n",
            "Epoch 161/1000\n",
            "28/50 [===============>..............] - ETA: 0s - loss: 0.4264 - accuracy: 0.8482\n",
            "Epoch 161: saving model to model/keypoint_classifier\\keypoint_classifier.hdf5\n",
            "50/50 [==============================] - 0s 4ms/step - loss: 0.4244 - accuracy: 0.8471 - val_loss: 0.1423 - val_accuracy: 0.9852\n",
            "Epoch 162/1000\n",
            "24/50 [=============>................] - ETA: 0s - loss: 0.4253 - accuracy: 0.8496\n",
            "Epoch 162: saving model to model/keypoint_classifier\\keypoint_classifier.hdf5\n",
            "50/50 [==============================] - 0s 4ms/step - loss: 0.4219 - accuracy: 0.8519 - val_loss: 0.1426 - val_accuracy: 0.9843\n",
            "Epoch 163/1000\n",
            "47/50 [===========================>..] - ETA: 0s - loss: 0.4149 - accuracy: 0.8489\n",
            "Epoch 163: saving model to model/keypoint_classifier\\keypoint_classifier.hdf5\n",
            "50/50 [==============================] - 0s 4ms/step - loss: 0.4149 - accuracy: 0.8487 - val_loss: 0.1439 - val_accuracy: 0.9857\n",
            "Epoch 164/1000\n",
            "32/50 [==================>...........] - ETA: 0s - loss: 0.4331 - accuracy: 0.8413\n",
            "Epoch 164: saving model to model/keypoint_classifier\\keypoint_classifier.hdf5\n",
            "50/50 [==============================] - 0s 4ms/step - loss: 0.4291 - accuracy: 0.8426 - val_loss: 0.1400 - val_accuracy: 0.9857\n",
            "Epoch 165/1000\n",
            "23/50 [============>.................] - ETA: 0s - loss: 0.4357 - accuracy: 0.8465\n",
            "Epoch 165: saving model to model/keypoint_classifier\\keypoint_classifier.hdf5\n",
            "50/50 [==============================] - 0s 4ms/step - loss: 0.4312 - accuracy: 0.8457 - val_loss: 0.1408 - val_accuracy: 0.9847\n",
            "Epoch 166/1000\n",
            "27/50 [===============>..............] - ETA: 0s - loss: 0.4354 - accuracy: 0.8423\n",
            "Epoch 166: saving model to model/keypoint_classifier\\keypoint_classifier.hdf5\n",
            "50/50 [==============================] - 0s 4ms/step - loss: 0.4288 - accuracy: 0.8449 - val_loss: 0.1413 - val_accuracy: 0.9843\n",
            "Epoch 167/1000\n",
            "31/50 [=================>............] - ETA: 0s - loss: 0.4341 - accuracy: 0.8448\n",
            "Epoch 167: saving model to model/keypoint_classifier\\keypoint_classifier.hdf5\n",
            "50/50 [==============================] - 0s 4ms/step - loss: 0.4400 - accuracy: 0.8422 - val_loss: 0.1416 - val_accuracy: 0.9843\n",
            "Epoch 168/1000\n",
            "30/50 [=================>............] - ETA: 0s - loss: 0.4282 - accuracy: 0.8505\n",
            "Epoch 168: saving model to model/keypoint_classifier\\keypoint_classifier.hdf5\n",
            "50/50 [==============================] - 0s 3ms/step - loss: 0.4362 - accuracy: 0.8439 - val_loss: 0.1463 - val_accuracy: 0.9847\n",
            "Epoch 169/1000\n",
            "28/50 [===============>..............] - ETA: 0s - loss: 0.4439 - accuracy: 0.8398\n",
            "Epoch 169: saving model to model/keypoint_classifier\\keypoint_classifier.hdf5\n",
            "50/50 [==============================] - 0s 4ms/step - loss: 0.4366 - accuracy: 0.8403 - val_loss: 0.1474 - val_accuracy: 0.9847\n",
            "Epoch 170/1000\n",
            "33/50 [==================>...........] - ETA: 0s - loss: 0.4272 - accuracy: 0.8494\n",
            "Epoch 170: saving model to model/keypoint_classifier\\keypoint_classifier.hdf5\n",
            "50/50 [==============================] - 0s 4ms/step - loss: 0.4246 - accuracy: 0.8503 - val_loss: 0.1523 - val_accuracy: 0.9843\n",
            "Epoch 171/1000\n",
            "30/50 [=================>............] - ETA: 0s - loss: 0.4297 - accuracy: 0.8456\n",
            "Epoch 171: saving model to model/keypoint_classifier\\keypoint_classifier.hdf5\n",
            "50/50 [==============================] - 0s 4ms/step - loss: 0.4254 - accuracy: 0.8501 - val_loss: 0.1414 - val_accuracy: 0.9847\n",
            "Epoch 172/1000\n",
            "32/50 [==================>...........] - ETA: 0s - loss: 0.4363 - accuracy: 0.8452\n",
            "Epoch 172: saving model to model/keypoint_classifier\\keypoint_classifier.hdf5\n",
            "50/50 [==============================] - 0s 4ms/step - loss: 0.4235 - accuracy: 0.8492 - val_loss: 0.1468 - val_accuracy: 0.9852\n",
            "Epoch 173/1000\n",
            "33/50 [==================>...........] - ETA: 0s - loss: 0.4123 - accuracy: 0.8520\n",
            "Epoch 173: saving model to model/keypoint_classifier\\keypoint_classifier.hdf5\n",
            "50/50 [==============================] - 0s 4ms/step - loss: 0.4191 - accuracy: 0.8487 - val_loss: 0.1397 - val_accuracy: 0.9852\n",
            "Epoch 174/1000\n",
            "26/50 [==============>...............] - ETA: 0s - loss: 0.4266 - accuracy: 0.8486\n",
            "Epoch 174: saving model to model/keypoint_classifier\\keypoint_classifier.hdf5\n",
            "50/50 [==============================] - 0s 4ms/step - loss: 0.4325 - accuracy: 0.8436 - val_loss: 0.1403 - val_accuracy: 0.9847\n",
            "Epoch 175/1000\n",
            "27/50 [===============>..............] - ETA: 0s - loss: 0.4512 - accuracy: 0.8417\n",
            "Epoch 175: saving model to model/keypoint_classifier\\keypoint_classifier.hdf5\n",
            "50/50 [==============================] - 0s 4ms/step - loss: 0.4374 - accuracy: 0.8447 - val_loss: 0.1460 - val_accuracy: 0.9857\n",
            "Epoch 176/1000\n",
            "33/50 [==================>...........] - ETA: 0s - loss: 0.4298 - accuracy: 0.8471\n",
            "Epoch 176: saving model to model/keypoint_classifier\\keypoint_classifier.hdf5\n",
            "50/50 [==============================] - 0s 4ms/step - loss: 0.4235 - accuracy: 0.8500 - val_loss: 0.1461 - val_accuracy: 0.9838\n",
            "Epoch 177/1000\n",
            "32/50 [==================>...........] - ETA: 0s - loss: 0.4346 - accuracy: 0.8435\n",
            "Epoch 177: saving model to model/keypoint_classifier\\keypoint_classifier.hdf5\n",
            "50/50 [==============================] - 0s 4ms/step - loss: 0.4386 - accuracy: 0.8428 - val_loss: 0.1471 - val_accuracy: 0.9843\n",
            "Epoch 178/1000\n",
            "31/50 [=================>............] - ETA: 0s - loss: 0.4203 - accuracy: 0.8495\n",
            "Epoch 178: saving model to model/keypoint_classifier\\keypoint_classifier.hdf5\n",
            "50/50 [==============================] - 0s 4ms/step - loss: 0.4216 - accuracy: 0.8485 - val_loss: 0.1502 - val_accuracy: 0.9843\n",
            "Epoch 179/1000\n",
            "24/50 [=============>................] - ETA: 0s - loss: 0.4384 - accuracy: 0.8438\n",
            "Epoch 179: saving model to model/keypoint_classifier\\keypoint_classifier.hdf5\n",
            "50/50 [==============================] - 0s 3ms/step - loss: 0.4351 - accuracy: 0.8446 - val_loss: 0.1507 - val_accuracy: 0.9838\n",
            "Epoch 180/1000\n",
            "27/50 [===============>..............] - ETA: 0s - loss: 0.4402 - accuracy: 0.8380\n",
            "Epoch 180: saving model to model/keypoint_classifier\\keypoint_classifier.hdf5\n",
            "50/50 [==============================] - 0s 4ms/step - loss: 0.4294 - accuracy: 0.8430 - val_loss: 0.1464 - val_accuracy: 0.9847\n",
            "Epoch 181/1000\n",
            "24/50 [=============>................] - ETA: 0s - loss: 0.4197 - accuracy: 0.8538\n",
            "Epoch 181: saving model to model/keypoint_classifier\\keypoint_classifier.hdf5\n",
            "50/50 [==============================] - 0s 3ms/step - loss: 0.4160 - accuracy: 0.8541 - val_loss: 0.1459 - val_accuracy: 0.9843\n",
            "Epoch 182/1000\n",
            "25/50 [==============>...............] - ETA: 0s - loss: 0.4179 - accuracy: 0.8528\n",
            "Epoch 182: saving model to model/keypoint_classifier\\keypoint_classifier.hdf5\n",
            "50/50 [==============================] - 0s 4ms/step - loss: 0.4216 - accuracy: 0.8503 - val_loss: 0.1385 - val_accuracy: 0.9852\n",
            "Epoch 183/1000\n",
            "23/50 [============>.................] - ETA: 0s - loss: 0.4340 - accuracy: 0.8448\n",
            "Epoch 183: saving model to model/keypoint_classifier\\keypoint_classifier.hdf5\n",
            "50/50 [==============================] - 0s 3ms/step - loss: 0.4378 - accuracy: 0.8442 - val_loss: 0.1475 - val_accuracy: 0.9833\n",
            "Epoch 184/1000\n",
            "27/50 [===============>..............] - ETA: 0s - loss: 0.4462 - accuracy: 0.8371\n",
            "Epoch 184: saving model to model/keypoint_classifier\\keypoint_classifier.hdf5\n",
            "50/50 [==============================] - 0s 3ms/step - loss: 0.4327 - accuracy: 0.8438 - val_loss: 0.1424 - val_accuracy: 0.9857\n",
            "Epoch 185/1000\n",
            "25/50 [==============>...............] - ETA: 0s - loss: 0.4230 - accuracy: 0.8447\n",
            "Epoch 185: saving model to model/keypoint_classifier\\keypoint_classifier.hdf5\n",
            "50/50 [==============================] - 0s 4ms/step - loss: 0.4256 - accuracy: 0.8474 - val_loss: 0.1425 - val_accuracy: 0.9847\n",
            "Epoch 186/1000\n",
            "32/50 [==================>...........] - ETA: 0s - loss: 0.4066 - accuracy: 0.8552\n",
            "Epoch 186: saving model to model/keypoint_classifier\\keypoint_classifier.hdf5\n",
            "50/50 [==============================] - 0s 4ms/step - loss: 0.4070 - accuracy: 0.8568 - val_loss: 0.1487 - val_accuracy: 0.9843\n",
            "Epoch 187/1000\n",
            "47/50 [===========================>..] - ETA: 0s - loss: 0.4246 - accuracy: 0.8494\n",
            "Epoch 187: saving model to model/keypoint_classifier\\keypoint_classifier.hdf5\n",
            "50/50 [==============================] - 0s 4ms/step - loss: 0.4249 - accuracy: 0.8495 - val_loss: 0.1418 - val_accuracy: 0.9847\n",
            "Epoch 188/1000\n",
            "35/50 [====================>.........] - ETA: 0s - loss: 0.4499 - accuracy: 0.8373\n",
            "Epoch 188: saving model to model/keypoint_classifier\\keypoint_classifier.hdf5\n",
            "50/50 [==============================] - 0s 4ms/step - loss: 0.4463 - accuracy: 0.8383 - val_loss: 0.1457 - val_accuracy: 0.9852\n",
            "Epoch 189/1000\n",
            "29/50 [================>.............] - ETA: 0s - loss: 0.4351 - accuracy: 0.8456\n",
            "Epoch 189: saving model to model/keypoint_classifier\\keypoint_classifier.hdf5\n",
            "50/50 [==============================] - 0s 3ms/step - loss: 0.4404 - accuracy: 0.8431 - val_loss: 0.1464 - val_accuracy: 0.9847\n",
            "Epoch 190/1000\n",
            "32/50 [==================>...........] - ETA: 0s - loss: 0.4272 - accuracy: 0.8491\n",
            "Epoch 190: saving model to model/keypoint_classifier\\keypoint_classifier.hdf5\n",
            "50/50 [==============================] - 0s 3ms/step - loss: 0.4283 - accuracy: 0.8460 - val_loss: 0.1461 - val_accuracy: 0.9843\n",
            "Epoch 191/1000\n",
            "30/50 [=================>............] - ETA: 0s - loss: 0.4356 - accuracy: 0.8458\n",
            "Epoch 191: saving model to model/keypoint_classifier\\keypoint_classifier.hdf5\n",
            "50/50 [==============================] - 0s 3ms/step - loss: 0.4269 - accuracy: 0.8490 - val_loss: 0.1394 - val_accuracy: 0.9847\n",
            "Epoch 192/1000\n",
            "30/50 [=================>............] - ETA: 0s - loss: 0.4401 - accuracy: 0.8451\n",
            "Epoch 192: saving model to model/keypoint_classifier\\keypoint_classifier.hdf5\n",
            "50/50 [==============================] - 0s 4ms/step - loss: 0.4380 - accuracy: 0.8447 - val_loss: 0.1469 - val_accuracy: 0.9847\n",
            "Epoch 193/1000\n",
            "27/50 [===============>..............] - ETA: 0s - loss: 0.4208 - accuracy: 0.8475\n",
            "Epoch 193: saving model to model/keypoint_classifier\\keypoint_classifier.hdf5\n",
            "50/50 [==============================] - 0s 4ms/step - loss: 0.4224 - accuracy: 0.8465 - val_loss: 0.1425 - val_accuracy: 0.9847\n",
            "Epoch 194/1000\n",
            "26/50 [==============>...............] - ETA: 0s - loss: 0.4163 - accuracy: 0.8531\n",
            "Epoch 194: saving model to model/keypoint_classifier\\keypoint_classifier.hdf5\n",
            "50/50 [==============================] - 0s 4ms/step - loss: 0.4209 - accuracy: 0.8500 - val_loss: 0.1430 - val_accuracy: 0.9843\n",
            "Epoch 195/1000\n",
            "27/50 [===============>..............] - ETA: 0s - loss: 0.4250 - accuracy: 0.8440\n",
            "Epoch 195: saving model to model/keypoint_classifier\\keypoint_classifier.hdf5\n",
            "50/50 [==============================] - 0s 3ms/step - loss: 0.4208 - accuracy: 0.8498 - val_loss: 0.1441 - val_accuracy: 0.9847\n",
            "Epoch 196/1000\n",
            "28/50 [===============>..............] - ETA: 0s - loss: 0.4239 - accuracy: 0.8507\n",
            "Epoch 196: saving model to model/keypoint_classifier\\keypoint_classifier.hdf5\n",
            "50/50 [==============================] - 0s 4ms/step - loss: 0.4183 - accuracy: 0.8509 - val_loss: 0.1439 - val_accuracy: 0.9843\n",
            "Epoch 197/1000\n",
            "27/50 [===============>..............] - ETA: 0s - loss: 0.4302 - accuracy: 0.8498\n",
            "Epoch 197: saving model to model/keypoint_classifier\\keypoint_classifier.hdf5\n",
            "50/50 [==============================] - 0s 3ms/step - loss: 0.4288 - accuracy: 0.8519 - val_loss: 0.1475 - val_accuracy: 0.9852\n",
            "Epoch 198/1000\n",
            "31/50 [=================>............] - ETA: 0s - loss: 0.4244 - accuracy: 0.8503\n",
            "Epoch 198: saving model to model/keypoint_classifier\\keypoint_classifier.hdf5\n",
            "50/50 [==============================] - 0s 4ms/step - loss: 0.4219 - accuracy: 0.8511 - val_loss: 0.1465 - val_accuracy: 0.9852\n",
            "Epoch 199/1000\n",
            "28/50 [===============>..............] - ETA: 0s - loss: 0.4282 - accuracy: 0.8457\n",
            "Epoch 199: saving model to model/keypoint_classifier\\keypoint_classifier.hdf5\n",
            "50/50 [==============================] - 0s 3ms/step - loss: 0.4223 - accuracy: 0.8476 - val_loss: 0.1450 - val_accuracy: 0.9843\n",
            "Epoch 200/1000\n",
            "36/50 [====================>.........] - ETA: 0s - loss: 0.4269 - accuracy: 0.8442\n",
            "Epoch 200: saving model to model/keypoint_classifier\\keypoint_classifier.hdf5\n",
            "50/50 [==============================] - 0s 4ms/step - loss: 0.4303 - accuracy: 0.8465 - val_loss: 0.1416 - val_accuracy: 0.9838\n",
            "Epoch 201/1000\n",
            "32/50 [==================>...........] - ETA: 0s - loss: 0.3958 - accuracy: 0.8577\n",
            "Epoch 201: saving model to model/keypoint_classifier\\keypoint_classifier.hdf5\n",
            "50/50 [==============================] - 0s 4ms/step - loss: 0.4029 - accuracy: 0.8555 - val_loss: 0.1458 - val_accuracy: 0.9843\n",
            "Epoch 202/1000\n",
            "25/50 [==============>...............] - ETA: 0s - loss: 0.4244 - accuracy: 0.8391\n",
            "Epoch 202: saving model to model/keypoint_classifier\\keypoint_classifier.hdf5\n",
            "50/50 [==============================] - 0s 3ms/step - loss: 0.4286 - accuracy: 0.8439 - val_loss: 0.1432 - val_accuracy: 0.9852\n",
            "Epoch 202: early stopping\n"
          ]
        },
        {
          "data": {
            "text/plain": [
              "<keras.src.callbacks.History at 0x24cacd4ff50>"
            ]
          },
          "execution_count": 12,
          "metadata": {},
          "output_type": "execute_result"
        }
      ],
      "source": [
        "model.fit(\n",
        "    X_train,\n",
        "    y_train,\n",
        "    epochs=1000,\n",
        "    batch_size=128,\n",
        "    validation_data=(X_test, y_test),\n",
        "    callbacks=[cp_callback, es_callback]\n",
        ")"
      ]
    },
    {
      "cell_type": "code",
      "execution_count": 13,
      "metadata": {
        "colab": {
          "base_uri": "https://localhost:8080/"
        },
        "id": "pxvb2Y299hE3",
        "outputId": "59eb3185-2e37-4b9e-bc9d-ab1b8ac29b7f"
      },
      "outputs": [
        {
          "name": "stdout",
          "output_type": "stream",
          "text": [
            "17/17 [==============================] - 0s 845us/step - loss: 0.1432 - accuracy: 0.9852\n"
          ]
        }
      ],
      "source": [
        "# Model evaluation\n",
        "val_loss, val_acc = model.evaluate(X_test, y_test, batch_size=128)"
      ]
    },
    {
      "cell_type": "code",
      "execution_count": 14,
      "metadata": {
        "id": "RBkmDeUW9hE4"
      },
      "outputs": [],
      "source": [
        "# Loading the saved model\n",
        "model = tf.keras.models.load_model(model_save_path)"
      ]
    },
    {
      "cell_type": "code",
      "execution_count": 15,
      "metadata": {
        "colab": {
          "base_uri": "https://localhost:8080/"
        },
        "id": "tFz9Tb0I9hE4",
        "outputId": "1c3b3528-54ae-4ee2-ab04-77429211cbef"
      },
      "outputs": [
        {
          "name": "stdout",
          "output_type": "stream",
          "text": [
            "1/1 [==============================] - 0s 76ms/step\n",
            "[0.12499208 0.7149043  0.1502193  0.0098843 ]\n",
            "1\n"
          ]
        }
      ],
      "source": [
        "# Inference test\n",
        "predict_result = model.predict(np.array([X_test[0]]))\n",
        "print(np.squeeze(predict_result))\n",
        "print(np.argmax(np.squeeze(predict_result)))"
      ]
    },
    {
      "cell_type": "markdown",
      "metadata": {
        "id": "S3U4yNWx9hE4"
      },
      "source": [
        "# Confusion matrix"
      ]
    },
    {
      "cell_type": "code",
      "execution_count": 16,
      "metadata": {
        "colab": {
          "base_uri": "https://localhost:8080/",
          "height": 582
        },
        "id": "AP1V6SCk9hE5",
        "outputId": "08e41a80-7a4a-4619-8125-ecc371368d19"
      },
      "outputs": [
        {
          "name": "stdout",
          "output_type": "stream",
          "text": [
            "66/66 [==============================] - 0s 978us/step\n"
          ]
        },
        {
          "data": {
            "image/png": "[encoded data removed]",
            "text/plain": [
              "<Figure size 700x600 with 2 Axes>"
            ]
          },
          "metadata": {},
          "output_type": "display_data"
        },
        {
          "name": "stdout",
          "output_type": "stream",
          "text": [
            "Classification Report\n",
            "              precision    recall  f1-score   support\n",
            "\n",
            "           0       0.97      0.99      0.98       535\n",
            "           1       0.99      1.00      0.99       636\n",
            "           2       0.99      1.00      0.99       762\n",
            "           3       1.00      0.85      0.92       163\n",
            "\n",
            "    accuracy                           0.99      2096\n",
            "   macro avg       0.99      0.96      0.97      2096\n",
            "weighted avg       0.99      0.99      0.98      2096\n",
            "\n"
          ]
        }
      ],
      "source": [
        "import pandas as pd\n",
        "import seaborn as sns\n",
        "import matplotlib.pyplot as plt\n",
        "from sklearn.metrics import confusion_matrix, classification_report\n",
        "\n",
        "\n",
        "def print_confusion_matrix(y_true, y_pred, report=True):\n",
        "    labels = sorted(list(set(y_true)))\n",
        "    cmx_data = confusion_matrix(y_true, y_pred, labels=labels)\n",
        "    \n",
        "    df_cmx = pd.DataFrame(cmx_data, index=labels, columns=labels)\n",
        " \n",
        "    fig, ax = plt.subplots(figsize=(7, 6))\n",
        "    sns.heatmap(df_cmx, annot=True, fmt='g' ,square=False)\n",
        "    ax.set_ylim(len(set(y_true)), 0)\n",
        "    plt.show()\n",
        "    \n",
        "    if report:\n",
        "        print('Classification Report')\n",
        "        print(classification_report(y_test, y_pred))\n",
        "\n",
        "Y_pred = model.predict(X_test)\n",
        "y_pred = np.argmax(Y_pred, axis=1)\n",
        "\n",
        "print_confusion_matrix(y_test, y_pred)"
      ]
    },
    {
      "cell_type": "markdown",
      "metadata": {
        "id": "FNP6aqzc9hE5"
      },
      "source": [
        "# Convert to model for Tensorflow-Lite"
      ]
    },
    {
      "cell_type": "code",
      "execution_count": 17,
      "metadata": {
        "id": "ODjnYyld9hE6"
      },
      "outputs": [
        {
          "name": "stderr",
          "output_type": "stream",
          "text": [
            "C:\\Users\\prxm3\\AppData\\Local\\Packages\\PythonSoftwareFoundation.Python.3.11_qbz5n2kfra8p0\\LocalCache\\local-packages\\Python311\\site-packages\\keras\\src\\engine\\training.py:3103: UserWarning: You are saving your model as an HDF5 file via `model.save()`. This file format is considered legacy. We recommend using instead the native Keras format, e.g. `model.save('my_model.keras')`.\n",
            "  saving_api.save_model(\n"
          ]
        }
      ],
      "source": [
        "# Save as a model dedicated to inference\n",
        "model.save(model_save_path, include_optimizer=False)"
      ]
    },
    {
      "cell_type": "code",
      "execution_count": 18,
      "metadata": {
        "colab": {
          "base_uri": "https://localhost:8080/"
        },
        "id": "zRfuK8Y59hE6",
        "outputId": "a4ca585c-b5d5-4244-8291-8674063209bb"
      },
      "outputs": [
        {
          "name": "stdout",
          "output_type": "stream",
          "text": [
            "INFO:tensorflow:Assets written to: C:\\Users\\prxm3\\AppData\\Local\\Temp\\tmpwy_colyi\\assets\n"
          ]
        },
        {
          "name": "stderr",
          "output_type": "stream",
          "text": [
            "INFO:tensorflow:Assets written to: C:\\Users\\prxm3\\AppData\\Local\\Temp\\tmpwy_colyi\\assets\n"
          ]
        },
        {
          "data": {
            "text/plain": [
              "6544"
            ]
          },
          "execution_count": 18,
          "metadata": {},
          "output_type": "execute_result"
        }
      ],
      "source": [
        "# Transform model (quantization)\n",
        "\n",
        "converter = tf.lite.TFLiteConverter.from_keras_model(model)\n",
        "converter.optimizations = [tf.lite.Optimize.DEFAULT]\n",
        "tflite_quantized_model = converter.convert()\n",
        "\n",
        "open(tflite_save_path, 'wb').write(tflite_quantized_model)"
      ]
    },
    {
      "cell_type": "markdown",
      "metadata": {
        "id": "CHBPBXdx9hE6"
      },
      "source": [
        "# Inference test"
      ]
    },
    {
      "cell_type": "code",
      "execution_count": 19,
      "metadata": {
        "id": "mGAzLocO9hE7"
      },
      "outputs": [],
      "source": [
        "interpreter = tf.lite.Interpreter(model_path=tflite_save_path)\n",
        "interpreter.allocate_tensors()"
      ]
    },
    {
      "cell_type": "code",
      "execution_count": 20,
      "metadata": {
        "id": "oQuDK8YS9hE7"
      },
      "outputs": [],
      "source": [
        "# Get I / O tensor\n",
        "input_details = interpreter.get_input_details()\n",
        "output_details = interpreter.get_output_details()"
      ]
    },
    {
      "cell_type": "code",
      "execution_count": 21,
      "metadata": {
        "id": "2_ixAf_l9hE7"
      },
      "outputs": [],
      "source": [
        "interpreter.set_tensor(input_details[0]['index'], np.array([X_test[0]]))"
      ]
    },
    {
      "cell_type": "code",
      "execution_count": 22,
      "metadata": {
        "colab": {
          "base_uri": "https://localhost:8080/"
        },
        "id": "s4FoAnuc9hE7",
        "outputId": "91f18257-8d8b-4ef3-c558-e9b5f94fabbf",
        "scrolled": true
      },
      "outputs": [
        {
          "name": "stdout",
          "output_type": "stream",
          "text": [
            "CPU times: total: 0 ns\n",
            "Wall time: 4.08 ms\n"
          ]
        }
      ],
      "source": [
        "%%time\n",
        "# Inference implementation\n",
        "interpreter.invoke()\n"
      ]
    },
    {
      "cell_type": "code",
      "execution_count": 23,
      "metadata": {
        "colab": {
          "base_uri": "https://localhost:8080/"
        },
        "id": "vONjp19J9hE8",
        "outputId": "77205e24-fd00-42c4-f7b6-e06e527c2cba"
      },
      "outputs": [
        {
          "name": "stdout",
          "output_type": "stream",
          "text": [
            "[0.12499207 0.7149043  0.1502193  0.0098843 ]\n",
            "1\n"
          ]
        }
      ],
      "source": [
        "tflite_results = interpreter.get_tensor(output_details[0]['index'])\n",
        "print(np.squeeze(tflite_results))\n",
        "print(np.argmax(np.squeeze(tflite_results)))"
      ]
    }
  ],
  "metadata": {
    "accelerator": "GPU",
    "colab": {
      "collapsed_sections": [],
      "name": "keypoint_classification_EN.ipynb",
      "provenance": [],
      "toc_visible": true
    },
    "kernelspec": {
      "display_name": "Python 3",
      "language": "python",
      "name": "python3"
    },
    "language_info": {
      "codemirror_mode": {
        "name": "ipython",
        "version": 3
      },
      "file_extension": ".py",
      "mimetype": "text/x-python",
      "name": "python",
      "nbconvert_exporter": "python",
      "pygments_lexer": "ipython3",
      "version": "3.11.7"
    }
  },
  "nbformat": 4,
  "nbformat_minor": 0
}
